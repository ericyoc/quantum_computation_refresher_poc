{
  "nbformat": 4,
  "nbformat_minor": 0,
  "metadata": {
    "colab": {
      "provenance": [],
      "machine_shape": "hm",
      "gpuType": "L4",
      "authorship_tag": "ABX9TyPuxzGhOkqFnNDg47uaeAkv",
      "include_colab_link": true
    },
    "kernelspec": {
      "name": "python3",
      "display_name": "Python 3"
    },
    "language_info": {
      "name": "python"
    },
    "accelerator": "GPU"
  },
  "cells": [
    {
      "cell_type": "markdown",
      "metadata": {
        "id": "view-in-github",
        "colab_type": "text"
      },
      "source": [
        "<a href=\"https://colab.research.google.com/github/ericyoc/quantum_computation_refresher_poc/blob/main/quantum_computation_refresher_poc.ipynb\" target=\"_parent\"><img src=\"https://colab.research.google.com/assets/colab-badge.svg\" alt=\"Open In Colab\"/></a>"
      ]
    },
    {
      "cell_type": "code",
      "source": [
        "# Quantum Computational Math and Theory Refresher"
      ],
      "metadata": {
        "id": "Sro5mKMMNBPM"
      },
      "execution_count": 1,
      "outputs": []
    },
    {
      "cell_type": "markdown",
      "source": [
        "*   Imaginary Numbers\n",
        "*   Complex Numbers\n",
        "*   Operations (e.g., Addition and Muliplication) on Complex Numbers\n",
        "*   Complex Conjugate\n",
        "*   Complex Numbers on the Number Plane\n",
        "*   Polar Form of Complex Number\n",
        "*   Exponential Form of Complex Number\n",
        "*   Matrix\n",
        "*   Operations (e.g., addition, multiply by scalar, multiplication using dot product) on Matricies\n",
        "*   Identity Matrix\n",
        "*   Inverse Matrix\n",
        "*   Column Vector\n",
        "*   Complex Conjecate of a Matrix\n",
        "*   Transpose Matrix\n",
        "*   Unitary Matrix\n",
        "*   Hermitian Matrix\n",
        "*   Eigenvectors and Eigenvalues\n",
        "*   Single Quibit and Dirac Notation\n",
        "*   Superposition\n",
        "*   Measurement a State of a Quantum Sytem\n",
        "*   Probability Measurment of a Qubit\n",
        "*   Coverting Matrix Notation into Direct Notation\n",
        "*   Bloch Sphere\n",
        "*   Qubit X, Y and Z Gates\n",
        "*   Disgard Global Phase and Keep Relative Phase\n",
        "*   Qubit Hadamard Gate\n",
        "*   Qubit Phase Gates S and T\n",
        "*   Qubit Inverse of Phase Gates S and T\n",
        "*   Multiple Qubits Using Tensor Product\n",
        "*   Multiple Qubits CNOT, Toffoli and Controlled Gates\n",
        "*   Entanglement\n",
        "*   Two Qubit Bell States\n",
        "*   Phase Kickback\n",
        "*   Superdense Coding\n",
        "*   Classical Logical Operations (e.g. NOT, AND, OR, XOR)\n",
        "*   Quantum Circuit Applications\n"
      ],
      "metadata": {
        "id": "GVaferAGZXyy"
      }
    },
    {
      "cell_type": "code",
      "source": [
        "## Imaginary Numbers"
      ],
      "metadata": {
        "id": "EIjtdBGtZSBa"
      },
      "execution_count": 2,
      "outputs": []
    },
    {
      "cell_type": "markdown",
      "source": [
        "Let's say we have $x^2 = 4 $"
      ],
      "metadata": {
        "id": "-S7K0AAhcN9s"
      }
    },
    {
      "cell_type": "code",
      "source": [],
      "metadata": {
        "id": "zUjNRpmlK0r5"
      },
      "execution_count": 2,
      "outputs": []
    },
    {
      "cell_type": "markdown",
      "source": [
        "so we have solutions $x = \\pm 2$"
      ],
      "metadata": {
        "id": "mo6VXuSNcZCt"
      }
    },
    {
      "cell_type": "markdown",
      "source": [
        "Note that the solutions to the $x^2 = 4$ are $x = +2$ and $x = -2$, which represent the positive and negative square roots of 4, respectively. This double-valued nature of the square root function is a fundamental property that arises from the symmetry of the function around the x-axis and the y-axis."
      ],
      "metadata": {
        "id": "WPuqsd3IPJdE"
      }
    },
    {
      "cell_type": "code",
      "source": [],
      "metadata": {
        "id": "KS5QFoaUriBr"
      },
      "execution_count": 2,
      "outputs": []
    },
    {
      "cell_type": "markdown",
      "source": [
        "But now we have $x^2=-4$"
      ],
      "metadata": {
        "id": "hzNS_8qycrQ8"
      }
    },
    {
      "cell_type": "markdown",
      "source": [
        "How can $x^2$ be negative if a number squared is always positive?"
      ],
      "metadata": {
        "id": "JeRTO835an1c"
      }
    },
    {
      "cell_type": "markdown",
      "source": [
        "Let us suppose we set i = $\\sqrt{-1}$"
      ],
      "metadata": {
        "id": "W5qjcWtvdFyB"
      }
    },
    {
      "cell_type": "markdown",
      "source": [
        "so we have $x = \\pm \\sqrt{4}$"
      ],
      "metadata": {
        "id": "6osNV_3rdknn"
      }
    },
    {
      "cell_type": "markdown",
      "source": [],
      "metadata": {
        "id": "7O6aCiXDPndd"
      }
    },
    {
      "cell_type": "markdown",
      "source": [
        "$x = \\pm \\sqrt{4} \\sqrt{-1}$"
      ],
      "metadata": {
        "id": "bwCHgtHed4gi"
      }
    },
    {
      "cell_type": "markdown",
      "source": [
        "$x = \\pm 2 \\sqrt{-1}$"
      ],
      "metadata": {
        "id": "uBvEEK2jeEk5"
      }
    },
    {
      "cell_type": "markdown",
      "source": [
        "$x = \\pm 2i$"
      ],
      "metadata": {
        "id": "PzMKlwmFeOoB"
      }
    },
    {
      "cell_type": "markdown",
      "source": [
        "In this case $x^2 = -4$, the solutions are not real numbers, but instead, they are imaginary numbers, specifically, x = 2i and x = -2i. Imaginary numbers are essential in mathematics and they play a crucial role in solving complex equations and problems.\n"
      ],
      "metadata": {
        "id": "L-yKldz-P5zk"
      }
    },
    {
      "cell_type": "code",
      "source": [
        "from sympy import Symbol, I, latex, sqrt\n",
        "import matplotlib.pyplot as plt\n",
        "\n",
        "def main():\n",
        "    \"\"\"\n",
        "    Main function to demonstrate equation rendering using sympy and Matplotlib.\n",
        "    \"\"\"\n",
        "    # Create symbols\n",
        "    x = Symbol('x')\n",
        "    i = Symbol('i')\n",
        "\n",
        "    # Create the equations\n",
        "    equation1 = latex(i) + ' = \\\\sqrt{-1}'\n",
        "    equation2 = latex(x) + ' = \\\\pm 2' + latex(i)\n",
        "\n",
        "    # Render the equations using Matplotlib\n",
        "    fig, ax = plt.subplots(1, 2, figsize=(12, 3))\n",
        "\n",
        "    ax[0].text(0.5, 0.5, f'${equation1}$', ha='center', va='center', fontsize=20)\n",
        "    ax[0].axis('off')\n",
        "\n",
        "    ax[1].text(0.5, 0.5, f'${equation2}$', ha='center', va='center', fontsize=20)\n",
        "    ax[1].axis('off')\n",
        "\n",
        "    plt.tight_layout()\n",
        "    plt.show()\n",
        "\n",
        "if __name__ == \"__main__\":\n",
        "    main()"
      ],
      "metadata": {
        "colab": {
          "base_uri": "https://localhost:8080/",
          "height": 307
        },
        "id": "tmHC22IAWxgp",
        "outputId": "c3b67215-21c0-41d2-a2b5-3540efd04f77"
      },
      "execution_count": 3,
      "outputs": [
        {
          "output_type": "display_data",
          "data": {
            "text/plain": [
              "<Figure size 1200x300 with 2 Axes>"
            ],
            "image/png": "[encoded data removed]"
          },
          "metadata": {}
        }
      ]
    },
    {
      "cell_type": "code",
      "source": [
        "## Complex Numbers"
      ],
      "metadata": {
        "id": "9gygsWhqecih"
      },
      "execution_count": 4,
      "outputs": []
    },
    {
      "cell_type": "markdown",
      "source": [
        "Complex Number = Real Number + Imaginary Number"
      ],
      "metadata": {
        "id": "G72g-7j0eh3Z"
      }
    },
    {
      "cell_type": "markdown",
      "source": [
        "Standard Form for a Complex Number: $a+ib$, where $a, b \\in \\mathbb{R}$"
      ],
      "metadata": {
        "id": "aV75akJpe6Ad"
      }
    },
    {
      "cell_type": "markdown",
      "source": [
        "Examples of Complex Numbers"
      ],
      "metadata": {
        "id": "6qOxxKc8fMWh"
      }
    },
    {
      "cell_type": "markdown",
      "source": [
        "*   $2+3i$\n",
        "*   $-1-i$\n",
        "*   $\\sqrt{2} + i\\sqrt{3}$"
      ],
      "metadata": {
        "id": "O5OVfi4LfRLy"
      }
    },
    {
      "cell_type": "code",
      "source": [
        "## Operations (e.g., Addition and Muliplication) on Complex Numbers"
      ],
      "metadata": {
        "id": "gGOpCuOAmESe"
      },
      "execution_count": 5,
      "outputs": []
    },
    {
      "cell_type": "markdown",
      "source": [
        "Complex Number Addition Operation"
      ],
      "metadata": {
        "id": "T-TfZWF4gpkH"
      }
    },
    {
      "cell_type": "code",
      "source": [
        "from sympy import Symbol, I, latex\n",
        "import matplotlib.pyplot as plt\n",
        "\n",
        "def main():\n",
        "    \"\"\"\n",
        "    Main function to demonstrate equation rendering using sympy and Matplotlib.\n",
        "    \"\"\"\n",
        "    # Create symbols\n",
        "    i = Symbol('i')\n",
        "\n",
        "    # Create the complex number addition equations\n",
        "    equation1 = '(2+3' + latex(i) + ')+(4-8' + latex(i) + ') = 6-5' + latex(i)\n",
        "    equation2 = '(1+9' + latex(i) + ') + (-3-8' + latex(i) + ') = (-2+' + latex(i) + ')'\n",
        "\n",
        "    # Render the equations using Matplotlib\n",
        "    fig, ax = plt.subplots(1, 2, figsize=(12, 3))\n",
        "\n",
        "    ax[0].text(0.5, 0.5, f'${equation1}$', ha='center', va='center', fontsize=20)\n",
        "    ax[0].axis('off')\n",
        "\n",
        "    ax[1].text(0.5, 0.5, f'${equation2}$', ha='center', va='center', fontsize=20)\n",
        "    ax[1].axis('off')\n",
        "\n",
        "    plt.tight_layout()\n",
        "    plt.show()\n",
        "\n",
        "if __name__ == \"__main__\":\n",
        "    main()"
      ],
      "metadata": {
        "colab": {
          "base_uri": "https://localhost:8080/",
          "height": 307
        },
        "id": "pN2XNy7GgEmz",
        "outputId": "2f01b086-6afb-4b41-9669-8ac79ea751a2"
      },
      "execution_count": 6,
      "outputs": [
        {
          "output_type": "display_data",
          "data": {
            "text/plain": [
              "<Figure size 1200x300 with 2 Axes>"
            ],
            "image/png": "[encoded data removed]"
          },
          "metadata": {}
        }
      ]
    },
    {
      "cell_type": "markdown",
      "source": [
        "Complex Number Multiplication Operation"
      ],
      "metadata": {
        "id": "nM3PeOyxguvt"
      }
    },
    {
      "cell_type": "code",
      "source": [
        "from sympy import Symbol, I, latex\n",
        "import matplotlib.pyplot as plt\n",
        "\n",
        "def main():\n",
        "    \"\"\"\n",
        "    Main function to demonstrate equation rendering using sympy and Matplotlib.\n",
        "    \"\"\"\n",
        "    # Create symbols\n",
        "    i = Symbol('i')\n",
        "\n",
        "    # Create the equation\n",
        "    equation = '(2+3' + latex(i) + ')(4-8' + latex(i) + ') = 32-4' + latex(i)\n",
        "\n",
        "    # Render the equation using Matplotlib\n",
        "    fig, ax = plt.subplots(figsize=(6, 3))\n",
        "\n",
        "    ax.text(0.5, 0.5, f'${equation}$', ha='center', va='center', fontsize=20)\n",
        "    ax.axis('off')\n",
        "\n",
        "    plt.tight_layout()\n",
        "    plt.show()\n",
        "\n",
        "if __name__ == \"__main__\":\n",
        "    main()"
      ],
      "metadata": {
        "colab": {
          "base_uri": "https://localhost:8080/",
          "height": 307
        },
        "id": "ODp9AOh_gw-X",
        "outputId": "ad1f73cc-68c2-4b02-e5fc-e2001c9bae5d"
      },
      "execution_count": 7,
      "outputs": [
        {
          "output_type": "display_data",
          "data": {
            "text/plain": [
              "<Figure size 600x300 with 1 Axes>"
            ],
            "image/png": "[encoded data removed]"
          },
          "metadata": {}
        }
      ]
    },
    {
      "cell_type": "code",
      "source": [
        "## Complex Conjugate"
      ],
      "metadata": {
        "id": "HZL8OcDgozPg"
      },
      "execution_count": 8,
      "outputs": []
    },
    {
      "cell_type": "markdown",
      "source": [
        "Complex Conjugate: $a+ib = (a+ib)^* = a-ib$"
      ],
      "metadata": {
        "id": "h9Cd5XOYo1Tl"
      }
    },
    {
      "cell_type": "markdown",
      "source": [
        "Examples of Complex Conjugate using $^*$ that is, negate the imaginary part"
      ],
      "metadata": {
        "id": "6SDWrulVpBMZ"
      }
    },
    {
      "cell_type": "markdown",
      "source": [
        "*   $(-2+3i)^* = -2-3i$\n",
        "*   $(3-i)^* = 3+i$"
      ],
      "metadata": {
        "id": "yCaHBLUDpM6f"
      }
    },
    {
      "cell_type": "markdown",
      "source": [
        "Use Property: $(a+ib)(a-ib) = a^2 -iab + iab -i^2b^2$"
      ],
      "metadata": {
        "id": "DKit3aN_phWg"
      }
    },
    {
      "cell_type": "markdown",
      "source": [
        "Results in $(a+ib)(a-ib) = a^2 + b^2$, that is a real number"
      ],
      "metadata": {
        "id": "W_cVnsz0qayw"
      }
    },
    {
      "cell_type": "markdown",
      "source": [
        "For example, $(2+3i)(2-3i) = 13 $"
      ],
      "metadata": {
        "id": "ao28uKqmqn6F"
      }
    },
    {
      "cell_type": "code",
      "source": [
        "## Complex Numbers on the Number Plane"
      ],
      "metadata": {
        "id": "GpOHFSSfrlRq"
      },
      "execution_count": 9,
      "outputs": []
    },
    {
      "cell_type": "markdown",
      "source": [
        "Plot the following complex number $-2+3i$"
      ],
      "metadata": {
        "id": "66V5IB5Xr6jK"
      }
    },
    {
      "cell_type": "code",
      "source": [
        "import numpy as np\n",
        "import matplotlib.pyplot as plt\n",
        "\n",
        "def plot_complex_plane(number):\n",
        "    \"\"\"\n",
        "    Plot a complex number on a complex plane with a vector arrow from the origin.\n",
        "    \"\"\"\n",
        "    # Extract real and imaginary parts\n",
        "    real_part = number.real\n",
        "    imag_part = number.imag\n",
        "\n",
        "    # Create a figure and axis\n",
        "    fig, ax = plt.subplots(figsize=(8, 8))\n",
        "\n",
        "    # Plot the complex number\n",
        "    ax.plot(real_part, imag_part, 'bo')\n",
        "\n",
        "    # Plot vector arrow from origin to the complex number\n",
        "    ax.arrow(0, 0, real_part, imag_part, head_width=0.1, head_length=0.2, fc='r', ec='r')\n",
        "\n",
        "    # Set labels and title\n",
        "    ax.set_xlabel('Real')\n",
        "    ax.set_ylabel('Imaginary')\n",
        "    ax.set_title('Complex Plane with Vector Arrow')\n",
        "\n",
        "    # Add complex number text\n",
        "    number_text = f\"{real_part} + {imag_part}i\"\n",
        "    ax.text(real_part, imag_part, number_text, fontsize=12, ha='center', va='bottom')\n",
        "\n",
        "    # Draw real and imaginary number lines\n",
        "    ax.axhline(y=0, color='k', linestyle='--')\n",
        "    ax.axvline(x=0, color='k', linestyle='--')\n",
        "\n",
        "    # Set axis limits\n",
        "    ax.set_xlim([-5, 5])\n",
        "    ax.set_ylim([-5, 5])\n",
        "\n",
        "    # Set ticks and labels on both axes\n",
        "    x_ticks = np.arange(-5, 6, 1)\n",
        "    y_ticks = np.arange(-5, 6, 1)\n",
        "    ax.set_xticks(x_ticks)\n",
        "    ax.set_yticks(y_ticks)\n",
        "\n",
        "    # Set equal aspect ratio for proper scaling\n",
        "    ax.set_aspect('equal')\n",
        "\n",
        "    # Display the plot\n",
        "    plt.show()\n",
        "\n",
        "def main():\n",
        "    \"\"\"\n",
        "    Main function to plot a complex number on a complex plane with a vector arrow from the origin.\n",
        "    \"\"\"\n",
        "    # Complex number\n",
        "    number = -2 + 3j\n",
        "\n",
        "    # Plot the complex number\n",
        "    plot_complex_plane(number)\n",
        "\n",
        "if __name__ == \"__main__\":\n",
        "    main()"
      ],
      "metadata": {
        "colab": {
          "base_uri": "https://localhost:8080/",
          "height": 718
        },
        "id": "DQnWkPslTbQs",
        "outputId": "61d75565-56c2-4dbc-b15d-6f2ed2e27307"
      },
      "execution_count": 10,
      "outputs": [
        {
          "output_type": "display_data",
          "data": {
            "text/plain": [
              "<Figure size 800x800 with 1 Axes>"
            ],
            "image/png": "[encoded data removed]"
          },
          "metadata": {}
        }
      ]
    },
    {
      "cell_type": "markdown",
      "source": [
        "Calculate magnitude: $|-2 + 3i | = \\sqrt{(-2)^2+(3)^2} = \\sqrt13$"
      ],
      "metadata": {
        "id": "TDd1lItAtAH8"
      }
    },
    {
      "cell_type": "markdown",
      "source": [
        "$|a+ib| = \\sqrt{a^2+b^2}$"
      ],
      "metadata": {
        "id": "bAozLbodvGEW"
      }
    },
    {
      "cell_type": "markdown",
      "source": [
        "For example, magnitude of $|4-3i| = 5 $"
      ],
      "metadata": {
        "id": "VJU3VKrAvReO"
      }
    },
    {
      "cell_type": "code",
      "source": [
        "## Polar Form of a Complex Number"
      ],
      "metadata": {
        "id": "c51FzEN1vmEC"
      },
      "execution_count": 11,
      "outputs": []
    },
    {
      "cell_type": "markdown",
      "source": [
        "Use the following: $a + ib = r(\\cos\\theta + i\\sin\\theta)$ where and $a=r\\cos(\\theta)$ and $b=r\\sin(\\theta)$"
      ],
      "metadata": {
        "id": "WA_mc9k5v5id"
      }
    },
    {
      "cell_type": "markdown",
      "source": [
        "Given: $\\tan(\\theta) = b / a $"
      ],
      "metadata": {
        "id": "-jw-9daJw9At"
      }
    },
    {
      "cell_type": "markdown",
      "source": [
        "therefore, $\\theta = \\arctan(b/a)$ in radians"
      ],
      "metadata": {
        "id": "0WJlEA5rxc6c"
      }
    },
    {
      "cell_type": "markdown",
      "source": [],
      "metadata": {
        "id": "Hu1BSgQs64uo"
      }
    },
    {
      "cell_type": "markdown",
      "source": [
        "and use $r = \\sqrt{a^2+b^2}$"
      ],
      "metadata": {
        "id": "Fe42RTow4mNC"
      }
    },
    {
      "cell_type": "markdown",
      "source": [
        "Convert to Polar Form Example: $1+i$"
      ],
      "metadata": {
        "id": "OkA-M5z90C7_"
      }
    },
    {
      "cell_type": "markdown",
      "source": [
        "$1+i = \\sqrt2(\\cos(\\pi/4) + isin(\\pi/4))$ where magnitude $|a+ib| = \\sqrt{a^2+b^2}$ or $|1+i| = \\sqrt{1^2+1^2} = \\sqrt{2}$ and $\\theta = \\arctan(b/a)$ or $\\theta = \\arctan(1/1) = \\pi/4\\text{ radians}$ or $45^\\circ$ (degree =  number of radians * 180/π)"
      ],
      "metadata": {
        "id": "jjHCVqFB04pL"
      }
    },
    {
      "cell_type": "code",
      "source": [
        "import numpy as np\n",
        "import matplotlib.pyplot as plt\n",
        "\n",
        "def plot_complex_plane(number):\n",
        "    \"\"\"\n",
        "    Plot a complex number on a complex plane with a vector arrow from the origin.\n",
        "    \"\"\"\n",
        "    # Extract real and imaginary parts\n",
        "    real_part = number.real\n",
        "    imag_part = number.imag\n",
        "\n",
        "    # Calculate magnitude and angle\n",
        "    magnitude = np.sqrt(real_part**2 + imag_part**2)\n",
        "    angle = np.arctan2(imag_part, real_part)  # Angle in radians\n",
        "\n",
        "    # Convert angle to degrees for display\n",
        "    angle_deg = np.degrees(angle)\n",
        "\n",
        "    # Calculate rectangular components\n",
        "    r_cos_theta = magnitude * np.cos(angle)\n",
        "    r_sin_theta = magnitude * np.sin(angle)\n",
        "\n",
        "    # Create a figure and axis\n",
        "    fig, ax = plt.subplots(figsize=(8, 8))\n",
        "\n",
        "    # Plot the complex number\n",
        "    ax.plot(real_part, imag_part, 'bo')\n",
        "\n",
        "    # Plot vector arrow from origin to the complex number\n",
        "    ax.arrow(0, 0, real_part, imag_part, head_width=0.1, head_length=0.2, fc='r', ec='r')\n",
        "\n",
        "    # Set labels and title\n",
        "    ax.set_xlabel('Real')\n",
        "    ax.set_ylabel('Imaginary')\n",
        "    ax.set_title('Complex Plane with Vector Arrow')\n",
        "\n",
        "    # Add complex number text\n",
        "    number_text = f\"{real_part} + {imag_part}i\"\n",
        "    ax.text(real_part, imag_part, number_text, fontsize=12, ha='center', va='bottom')\n",
        "\n",
        "    # Add magnitude label\n",
        "    magnitude_label = fr\"$r = {magnitude:.2f}$\"\n",
        "    ax.text(0.05, 0.9, magnitude_label, transform=ax.transAxes, fontsize=12, va='top', bbox=dict(boxstyle='round', facecolor='wheat', alpha=0.5))\n",
        "\n",
        "    # Add angle label\n",
        "    angle_label = fr\"$\\theta = {angle_deg:.2f}^\\circ$\"\n",
        "    ax.text(0.05, 0.85, angle_label, transform=ax.transAxes, fontsize=12, va='top', bbox=dict(boxstyle='round', facecolor='wheat', alpha=0.5))\n",
        "\n",
        "    # Add rectangular component labels\n",
        "    r_cos_theta_label = fr\"$r\\cos\\theta = {r_cos_theta:.2f}$\"\n",
        "    r_sin_theta_label = fr\"$r\\sin\\theta = {r_sin_theta:.2f}$\"\n",
        "    ax.text(0.05, 0.8, r_cos_theta_label, transform=ax.transAxes, fontsize=12, va='top', bbox=dict(boxstyle='round', facecolor='wheat', alpha=0.5))\n",
        "    ax.text(0.05, 0.75, r_sin_theta_label, transform=ax.transAxes, fontsize=12, va='top', bbox=dict(boxstyle='round', facecolor='wheat', alpha=0.5))\n",
        "\n",
        "    # Draw real and imaginary number lines\n",
        "    ax.axhline(y=0, color='k', linestyle='--')\n",
        "    ax.axvline(x=0, color='k', linestyle='--')\n",
        "\n",
        "    # Set axis limits\n",
        "    ax.set_xlim([-5, 5])\n",
        "    ax.set_ylim([-5, 5])\n",
        "\n",
        "    # Set ticks and labels on both axes\n",
        "    x_ticks = np.arange(-5, 6, 1)\n",
        "    y_ticks = np.arange(-5, 6, 1)\n",
        "    ax.set_xticks(x_ticks)\n",
        "    ax.set_yticks(y_ticks)\n",
        "\n",
        "    # Set equal aspect ratio for proper scaling\n",
        "    ax.set_aspect('equal')\n",
        "\n",
        "    # Display the plot\n",
        "    plt.show()\n",
        "\n",
        "def main():\n",
        "    \"\"\"\n",
        "    Main function to plot a complex number on a complex plane with a vector arrow from the origin.\n",
        "    \"\"\"\n",
        "    # Complex number\n",
        "    number = -2 + 3j\n",
        "\n",
        "    # Plot the complex number\n",
        "    plot_complex_plane(number)\n",
        "\n",
        "if __name__ == \"__main__\":\n",
        "    main()"
      ],
      "metadata": {
        "colab": {
          "base_uri": "https://localhost:8080/",
          "height": 718
        },
        "id": "GLm8qfRLwrLR",
        "outputId": "c21cedba-8545-40e0-c7b3-1f6636e2849b"
      },
      "execution_count": 12,
      "outputs": [
        {
          "output_type": "display_data",
          "data": {
            "text/plain": [
              "<Figure size 800x800 with 1 Axes>"
            ],
            "image/png": "[encoded data removed]"
          },
          "metadata": {}
        }
      ]
    },
    {
      "cell_type": "code",
      "source": [
        "## Exponential Form of Complex Number"
      ],
      "metadata": {
        "id": "0rp9Gh_txo68"
      },
      "execution_count": 13,
      "outputs": []
    },
    {
      "cell_type": "markdown",
      "source": [
        "**Exponential form** assists in describing the rotation around a circle and lends itself useful for quantum computing calculations specificly in representing quantum states"
      ],
      "metadata": {
        "id": "nisDaDG0A1I6"
      }
    },
    {
      "cell_type": "markdown",
      "source": [
        "**Exponential Form**: $a+ib = re^{i\\theta}$"
      ],
      "metadata": {
        "id": "6w9u7uEHx8l4"
      }
    },
    {
      "cell_type": "markdown",
      "source": [
        "Exponential Form Example $1+i = \\sqrt2e^{i\\pi/4}$ where magnitude $|a+ib| = \\sqrt{a^2+b^2}$ or $|1+i| = \\sqrt{1^2+1^2} = \\sqrt{2}$ and $\\theta = \\arctan(b/a)$ or $\\theta = \\arctan(1/1) = \\pi/4\\text{ radians}$ or $45^\\circ$ (degree =  number of radians * 180/π)"
      ],
      "metadata": {
        "id": "dFVJgVY8yyjT"
      }
    },
    {
      "cell_type": "markdown",
      "source": [
        "Note the following: $\\sqrt2 = 1.41$ and  $\\pi/4\\text{ radians}$ or $45^\\circ$ (degree =  number of radians * 180/π) represented in the next plot."
      ],
      "metadata": {
        "id": "3jHla5yFAQII"
      }
    },
    {
      "cell_type": "code",
      "source": [
        "import numpy as np\n",
        "import matplotlib.pyplot as plt\n",
        "\n",
        "def plot_complex_plane(number):\n",
        "    \"\"\"\n",
        "    Plot a complex number on a complex plane with a vector arrow from the origin.\n",
        "    \"\"\"\n",
        "    # Extract real and imaginary parts\n",
        "    real_part = number.real\n",
        "    imag_part = number.imag\n",
        "\n",
        "    # Calculate magnitude and angle\n",
        "    magnitude = np.abs(number)\n",
        "    angle = np.angle(number)\n",
        "\n",
        "    # Convert angle to degrees for display\n",
        "    angle_deg = np.degrees(angle)\n",
        "\n",
        "    # Calculate rectangular components\n",
        "    r_cos_theta = magnitude * np.cos(angle)\n",
        "    r_sin_theta = magnitude * np.sin(angle)\n",
        "\n",
        "    # Create a figure and axis\n",
        "    fig, ax = plt.subplots(figsize=(8, 8))\n",
        "\n",
        "    # Plot the complex number\n",
        "    ax.plot(real_part, imag_part, 'bo')\n",
        "\n",
        "    # Plot vector arrow from origin to the complex number\n",
        "    ax.arrow(0, 0, real_part, imag_part, head_width=0.1, head_length=0.2, fc='r', ec='r')\n",
        "\n",
        "    # Set labels and title\n",
        "    ax.set_xlabel('Real')\n",
        "    ax.set_ylabel('Imaginary')\n",
        "    ax.set_title('Complex Plane with Vector Arrow')\n",
        "\n",
        "    # Add complex number text\n",
        "    number_text = fr\"${real_part:.2f} + {imag_part:.2f}i$\"\n",
        "    ax.text(real_part, imag_part, number_text, fontsize=12, ha='center', va='bottom')\n",
        "\n",
        "    # Add magnitude label\n",
        "    magnitude_label = fr\"$r = {magnitude:.2f}$\"\n",
        "    ax.text(0.05, 0.9, magnitude_label, transform=ax.transAxes, fontsize=12, va='top', bbox=dict(boxstyle='round', facecolor='wheat', alpha=0.5))\n",
        "\n",
        "    # Add angle label in degrees\n",
        "    angle_label_deg = fr\"$\\theta = {angle_deg:.2f}^\\circ$\"\n",
        "    ax.text(0.05, 0.85, angle_label_deg, transform=ax.transAxes, fontsize=12, va='top', bbox=dict(boxstyle='round', facecolor='wheat', alpha=0.5))\n",
        "\n",
        "    # Add rectangular component labels\n",
        "    r_cos_theta_label = fr\"$r\\cos\\theta = {r_cos_theta:.2f}$\"\n",
        "    r_sin_theta_label = fr\"$r\\sin\\theta = {r_sin_theta:.2f}$\"\n",
        "    ax.text(0.05, 0.8, r_cos_theta_label, transform=ax.transAxes, fontsize=12, va='top', bbox=dict(boxstyle='round', facecolor='wheat', alpha=0.5))\n",
        "    ax.text(0.05, 0.75, r_sin_theta_label, transform=ax.transAxes, fontsize=12, va='top', bbox=dict(boxstyle='round', facecolor='wheat', alpha=0.5))\n",
        "\n",
        "    # Add exponential form label\n",
        "    exponential_form_label = fr\"$a + ib = {magnitude:.2f}e^{{i\\theta}} \\quad (\\theta = {angle_deg:.2f}^\\circ)$\"\n",
        "    ax.text(0.05, 0.7, exponential_form_label, transform=ax.transAxes, fontsize=12, va='top', bbox=dict(boxstyle='round', facecolor='wheat', alpha=0.5))\n",
        "\n",
        "    # Draw real and imaginary number lines\n",
        "    ax.axhline(y=0, color='k', linestyle='--')\n",
        "    ax.axvline(x=0, color='k', linestyle='--')\n",
        "\n",
        "    # Set axis limits\n",
        "    ax.set_xlim([-5, 5])\n",
        "    ax.set_ylim([-5, 5])\n",
        "\n",
        "    # Set ticks and labels on both axes\n",
        "    x_ticks = np.arange(-5, 6, 1)\n",
        "    y_ticks = np.arange(-5, 6, 1)\n",
        "    ax.set_xticks(x_ticks)\n",
        "    ax.set_yticks(y_ticks)\n",
        "\n",
        "    # Set equal aspect ratio for proper scaling\n",
        "    ax.set_aspect('equal')\n",
        "\n",
        "    # Display the plot\n",
        "    plt.show()\n",
        "\n",
        "def main():\n",
        "    \"\"\"\n",
        "    Main function to plot a complex number on a complex plane with a vector arrow from the origin.\n",
        "    \"\"\"\n",
        "    # Complex number\n",
        "    number = np.sqrt(2) * np.exp(1j * np.pi/4)\n",
        "\n",
        "    # Plot the complex number\n",
        "    plot_complex_plane(number)\n",
        "\n",
        "if __name__ == \"__main__\":\n",
        "    main()"
      ],
      "metadata": {
        "colab": {
          "base_uri": "https://localhost:8080/",
          "height": 718
        },
        "id": "J0w931um_Rw8",
        "outputId": "7193c5f8-8325-48ee-84bd-b4d0aa58cd83"
      },
      "execution_count": 14,
      "outputs": [
        {
          "output_type": "display_data",
          "data": {
            "text/plain": [
              "<Figure size 800x800 with 1 Axes>"
            ],
            "image/png": "[encoded data removed]"
          },
          "metadata": {}
        }
      ]
    },
    {
      "cell_type": "code",
      "source": [
        "## Matrix"
      ],
      "metadata": {
        "id": "ZThyA67BBrA5"
      },
      "execution_count": 15,
      "outputs": []
    },
    {
      "cell_type": "markdown",
      "source": [
        "Use **m** for rows and **n** for columns then we have **m** x **n** matrix"
      ],
      "metadata": {
        "id": "4FU9S_n-Cm-y"
      }
    },
    {
      "cell_type": "markdown",
      "source": [
        "2 rows by 2 columns or 2 by 2 matrix or 2 x 2 matrix where m = 2 and n = 2 \\\\\n",
        "$\\begin{bmatrix}\n",
        "1 & -2 \\\\\n",
        "0 & -10\n",
        "\\end{bmatrix}$"
      ],
      "metadata": {
        "id": "gecwxRgtCLoh"
      }
    },
    {
      "cell_type": "markdown",
      "source": [
        "Examples of Matricies"
      ],
      "metadata": {
        "id": "Ckh6T7nrCInn"
      }
    },
    {
      "cell_type": "markdown",
      "source": [
        "4 rows by 1 column or 4 by 1 matrix or 4 x 1 matrix where m = 4 and n =1 \\\\\n",
        "$\\begin{bmatrix}\n",
        "1  \\\\\n",
        "2 \\\\\n",
        "-3 \\\\\n",
        "8\n",
        "\\end{bmatrix}$"
      ],
      "metadata": {
        "id": "LA6sD_SQCQ7m"
      }
    },
    {
      "cell_type": "markdown",
      "source": [
        "2 rows by 3 columns or 2 by 3 matrix or 2 x 3 matrix where m = 2 and n = 3 \\\\\n",
        "$\\begin{bmatrix}\n",
        "5 & -2 & 3 \\\\\n",
        "7 & 2 & 1.5\n",
        "\\end{bmatrix}$"
      ],
      "metadata": {
        "id": "SfUqt77LCY-D"
      }
    },
    {
      "cell_type": "code",
      "source": [
        "## Operations (e.g., addition, multiply by scalar, multiplication using dot product) on Matricies"
      ],
      "metadata": {
        "id": "8ad3_Qu8DrD-"
      },
      "execution_count": 16,
      "outputs": []
    },
    {
      "cell_type": "markdown",
      "source": [
        "Matricies can be added or subtracted only if both matrices are the same dimensions"
      ],
      "metadata": {
        "id": "FahEa4OkE-u6"
      }
    },
    {
      "cell_type": "code",
      "source": [
        "from sympy import Matrix, pprint\n",
        "\n",
        "def main():\n",
        "    \"\"\"\n",
        "    Main function to demonstrate matrix addition using sympy.\n",
        "    \"\"\"\n",
        "    print(\"\\nMatrix 1 + Matrix 2 = Matrix 3\\n\")\n",
        "    # Create the first matrix\n",
        "    matrix1 = Matrix([[2, -3],\n",
        "                      [7, 0],\n",
        "                      [0, 4]])\n",
        "\n",
        "    # Create the second matrix\n",
        "    matrix2 = Matrix([[4, 12],\n",
        "                      [-2, 7],\n",
        "                      [2, 5]])\n",
        "\n",
        "    # Print the first matrix\n",
        "    print(\"Matrix 1:\")\n",
        "    pprint(matrix1)\n",
        "\n",
        "    # Print the second matrix\n",
        "    print(\"\\nMatrix 2:\")\n",
        "    pprint(matrix2)\n",
        "\n",
        "    # Add the matrices\n",
        "    result = matrix1 + matrix2\n",
        "\n",
        "    # Print the result\n",
        "    print(\"\\nResult: Matrix 3\")\n",
        "    pprint(result)\n",
        "\n",
        "if __name__ == \"__main__\":\n",
        "    main()"
      ],
      "metadata": {
        "colab": {
          "base_uri": "https://localhost:8080/"
        },
        "id": "meZbELd5D7C6",
        "outputId": "b9c9d00a-f0ea-40ba-de13-7f47a25e8677"
      },
      "execution_count": 17,
      "outputs": [
        {
          "output_type": "stream",
          "name": "stdout",
          "text": [
            "\n",
            "Matrix 1 + Matrix 2 = Matrix 3\n",
            "\n",
            "Matrix 1:\n",
            "⎡2  -3⎤\n",
            "⎢     ⎥\n",
            "⎢7  0 ⎥\n",
            "⎢     ⎥\n",
            "⎣0  4 ⎦\n",
            "\n",
            "Matrix 2:\n",
            "⎡4   12⎤\n",
            "⎢      ⎥\n",
            "⎢-2  7 ⎥\n",
            "⎢      ⎥\n",
            "⎣2   5 ⎦\n",
            "\n",
            "Result: Matrix 3\n",
            "⎡6  9⎤\n",
            "⎢    ⎥\n",
            "⎢5  7⎥\n",
            "⎢    ⎥\n",
            "⎣2  9⎦\n"
          ]
        }
      ]
    },
    {
      "cell_type": "code",
      "source": [
        "from sympy import Matrix, symbols, pprint\n",
        "\n",
        "def main():\n",
        "    \"\"\"\n",
        "    Main function to demonstrate scalar multiplication of a matrix using sympy.\n",
        "    \"\"\"\n",
        "    # Create a symbolic scalar\n",
        "    k = symbols('k')\n",
        "\n",
        "    # Create the matrix\n",
        "    matrix = Matrix([[-4, 3],\n",
        "                     [7, 0]])\n",
        "\n",
        "    # Print the matrix\n",
        "    print(\"Original Matrix:\")\n",
        "    pprint(matrix)\n",
        "\n",
        "    # Multiply the matrix by the scalar k\n",
        "    result = k * matrix\n",
        "\n",
        "    # Print the result\n",
        "    print(\"\\nResult (k * Matrix):\")\n",
        "    pprint(result)\n",
        "\n",
        "if __name__ == \"__main__\":\n",
        "    main()"
      ],
      "metadata": {
        "colab": {
          "base_uri": "https://localhost:8080/"
        },
        "id": "RD7qxbyDFsEi",
        "outputId": "31c85b9f-d916-4ad1-c419-ac1a9ac41e23"
      },
      "execution_count": 18,
      "outputs": [
        {
          "output_type": "stream",
          "name": "stdout",
          "text": [
            "Original Matrix:\n",
            "⎡-4  3⎤\n",
            "⎢     ⎥\n",
            "⎣7   0⎦\n",
            "\n",
            "Result (k * Matrix):\n",
            "⎡-4⋅k  3⋅k⎤\n",
            "⎢         ⎥\n",
            "⎣7⋅k    0 ⎦\n"
          ]
        }
      ]
    },
    {
      "cell_type": "markdown",
      "source": [
        "Note that the number of columns of the left matrix must be equal to the number of rows of the right matrix to multiply two matricies together as shown in the next output."
      ],
      "metadata": {
        "id": "tACmcltXG2dK"
      }
    },
    {
      "cell_type": "markdown",
      "source": [
        "Matix multiplication is not Commutative, $AB \\neq BA$"
      ],
      "metadata": {
        "id": "ugvVoC2HHWDY"
      }
    },
    {
      "cell_type": "code",
      "source": [
        "from sympy import Matrix, pprint\n",
        "\n",
        "def main():\n",
        "    \"\"\"\n",
        "    Main function to demonstrate matrix multiplication using sympy.\n",
        "    \"\"\"\n",
        "    # Create the first matrix\n",
        "    matrix1 = Matrix([[1, 0],\n",
        "                      [2, -1]])\n",
        "\n",
        "    # Create the second matrix\n",
        "    matrix2 = Matrix([[2, 3, 5],\n",
        "                      [5, 2, 0]])\n",
        "\n",
        "    # Print the first matrix\n",
        "    print(\"Matrix 1:\")\n",
        "    pprint(matrix1)\n",
        "\n",
        "    # Print the second matrix\n",
        "    print(\"\\nMatrix 2:\")\n",
        "    pprint(matrix2)\n",
        "\n",
        "    # Multiply the matrices using the dot product\n",
        "    result = matrix1 * matrix2\n",
        "\n",
        "    # Print the result Dot Product\n",
        "    print(\"\\nResult (Matrix 1 * Matrix 2):\")\n",
        "    pprint(result)\n",
        "\n",
        "if __name__ == \"__main__\":\n",
        "    main()"
      ],
      "metadata": {
        "colab": {
          "base_uri": "https://localhost:8080/"
        },
        "id": "O8ocg84jGFFP",
        "outputId": "d1ffabcd-fc73-4f4f-abf1-f0761a6ce764"
      },
      "execution_count": 19,
      "outputs": [
        {
          "output_type": "stream",
          "name": "stdout",
          "text": [
            "Matrix 1:\n",
            "⎡1  0 ⎤\n",
            "⎢     ⎥\n",
            "⎣2  -1⎦\n",
            "\n",
            "Matrix 2:\n",
            "⎡2  3  5⎤\n",
            "⎢       ⎥\n",
            "⎣5  2  0⎦\n",
            "\n",
            "Result (Matrix 1 * Matrix 2):\n",
            "⎡2   3  5 ⎤\n",
            "⎢         ⎥\n",
            "⎣-1  4  10⎦\n"
          ]
        }
      ]
    },
    {
      "cell_type": "code",
      "source": [
        "## Special Kind of Matrix Called a Column Vector"
      ],
      "metadata": {
        "id": "fQDDKgmMLcYt"
      },
      "execution_count": 20,
      "outputs": []
    },
    {
      "cell_type": "markdown",
      "source": [
        "A matrix is called a column vector and useful for representing a state of the quantum computation"
      ],
      "metadata": {
        "id": "6zll2YDoH2Xp"
      }
    },
    {
      "cell_type": "markdown",
      "source": [
        "Column Vector Example: $\\begin{bmatrix}\n",
        "6  \\\\\n",
        "-3 \\\\\n",
        "1 \\\\\n",
        "1\n",
        "\\end{bmatrix}$"
      ],
      "metadata": {
        "id": "75JtvwetIA1E"
      }
    },
    {
      "cell_type": "code",
      "source": [
        "## Identity Matrix"
      ],
      "metadata": {
        "id": "anZOYinhL-qd"
      },
      "execution_count": 21,
      "outputs": []
    },
    {
      "cell_type": "markdown",
      "source": [
        "2 x 2 Identity Matrix\n",
        "$\\begin{bmatrix}\n",
        "1 & 0  \\\\\n",
        "0 & 1\n",
        "\\end{bmatrix}$"
      ],
      "metadata": {
        "id": "4vnFDEmKMDLQ"
      }
    },
    {
      "cell_type": "markdown",
      "source": [
        "3 x 3 Identity Matrix\n",
        "$\\begin{bmatrix}\n",
        "1 & 0 & 0  \\\\\n",
        "0 & 1 & 0 \\\\\n",
        "0 & 0 & 1\n",
        "\\end{bmatrix}$"
      ],
      "metadata": {
        "id": "B6RAqOI4MIPP"
      }
    },
    {
      "cell_type": "markdown",
      "source": [
        "$IA = A$ where $A$ is a matrix and $I$ is the identity matrix"
      ],
      "metadata": {
        "id": "HtlUa-UHQfuZ"
      }
    },
    {
      "cell_type": "markdown",
      "source": [
        "$\\begin{bmatrix}\n",
        "1 & 0  \\\\\n",
        "0 & 1\n",
        "\\end{bmatrix}$\n",
        "$\\begin{bmatrix}\n",
        "a  \\\\\n",
        "b  \n",
        "\\end{bmatrix}$\n",
        "=\n",
        "$\\begin{bmatrix}\n",
        "a  \\\\\n",
        "b\n",
        "\\end{bmatrix}$"
      ],
      "metadata": {
        "id": "BrLY25PcQt6D"
      }
    },
    {
      "cell_type": "code",
      "source": [
        "## Inverse Matrix"
      ],
      "metadata": {
        "id": "RZEHcKbNRRVG"
      },
      "execution_count": 22,
      "outputs": []
    },
    {
      "cell_type": "markdown",
      "source": [
        "$A^{-1}A = I$"
      ],
      "metadata": {
        "id": "ZnKYMgWNRUsW"
      }
    },
    {
      "cell_type": "markdown",
      "source": [
        "Note that not all matrices have an inverse"
      ],
      "metadata": {
        "id": "loNBgscvRnqy"
      }
    },
    {
      "cell_type": "markdown",
      "source": [
        "Stated differently, the column vector stays in the same place"
      ],
      "metadata": {
        "id": "SlaBJ-HbSWOe"
      }
    },
    {
      "cell_type": "markdown",
      "source": [
        "Multiplying a matrix with a column vector gives us another column vector and thereby we can use matricies to transform our column vectors"
      ],
      "metadata": {
        "id": "BTEczr-NIFY9"
      }
    },
    {
      "cell_type": "code",
      "source": [
        "## Complex Conjecate of a Matrix"
      ],
      "metadata": {
        "id": "KEfp4MUIT9e1"
      },
      "execution_count": 23,
      "outputs": []
    },
    {
      "cell_type": "markdown",
      "source": [
        "$A$ = $\\begin{bmatrix}\n",
        "2 + 3i & 0  \\\\\n",
        "5 & 3-i\n",
        "\\end{bmatrix}$\n",
        "$A^{*}$ =\n",
        "$\\begin{bmatrix}\n",
        "2 - 3i & 0  \\\\\n",
        "5 & 3 + i  \n",
        "\\end{bmatrix}$"
      ],
      "metadata": {
        "id": "3_4F8e6mUFGG"
      }
    },
    {
      "cell_type": "code",
      "source": [
        "## Transposing a Matrix"
      ],
      "metadata": {
        "id": "1mMUoS2MLn6v"
      },
      "execution_count": 24,
      "outputs": []
    },
    {
      "cell_type": "markdown",
      "source": [
        "$\\begin{bmatrix}\n",
        "1 & 2 & 3  \\\\\n",
        "4 & 5 & 6 \\\\\n",
        "7 & 8 & 9\n",
        "\\end{bmatrix}^{T}$\n",
        "=\n",
        "$\\begin{bmatrix}\n",
        "1 & 4 & 7  \\\\\n",
        "2 & 5 & 8 \\\\\n",
        "3 & 6 & 9\n",
        "\\end{bmatrix}$"
      ],
      "metadata": {
        "id": "Nb2YC6khVkKK"
      }
    },
    {
      "cell_type": "markdown",
      "source": [
        "Note to find the transpose of a matrix you exchange the rows for the columns"
      ],
      "metadata": {
        "id": "aVigHQZ7WbQu"
      }
    },
    {
      "cell_type": "code",
      "source": [
        "!pip install sympy\n",
        "from sympy import Matrix, pprint\n",
        "\n",
        "def main():\n",
        "    \"\"\"\n",
        "    Main function to demonstrate matrix visualization using sympy.\n",
        "    \"\"\"\n",
        "    # Create a sample matrix\n",
        "    matrix = Matrix([[1, 2, 3],\n",
        "                     [4, 5, 6],\n",
        "                     [7, 8, 9]])\n",
        "\n",
        "    # Print the matrix\n",
        "    print(\"Matrix:\")\n",
        "    pprint(matrix)\n",
        "\n",
        "    # Transpose the matrix\n",
        "    transposed_matrix = matrix.T\n",
        "\n",
        "    # Print the transposed matrix\n",
        "    print(\"\\nTransposed Matrix:\")\n",
        "    pprint(transposed_matrix)\n",
        "\n",
        "if __name__ == \"__main__\":\n",
        "    main()"
      ],
      "metadata": {
        "colab": {
          "base_uri": "https://localhost:8080/"
        },
        "id": "hnzR49-4UKka",
        "outputId": "4245ec5a-b648-462c-e17c-5150adfeac17"
      },
      "execution_count": 25,
      "outputs": [
        {
          "output_type": "stream",
          "name": "stdout",
          "text": [
            "Requirement already satisfied: sympy in /usr/local/lib/python3.10/dist-packages (1.12.1)\n",
            "Requirement already satisfied: mpmath<1.4.0,>=1.1.0 in /usr/local/lib/python3.10/dist-packages (from sympy) (1.3.0)\n",
            "Matrix:\n",
            "⎡1  2  3⎤\n",
            "⎢       ⎥\n",
            "⎢4  5  6⎥\n",
            "⎢       ⎥\n",
            "⎣7  8  9⎦\n",
            "\n",
            "Transposed Matrix:\n",
            "⎡1  4  7⎤\n",
            "⎢       ⎥\n",
            "⎢2  5  8⎥\n",
            "⎢       ⎥\n",
            "⎣3  6  9⎦\n"
          ]
        }
      ]
    },
    {
      "cell_type": "code",
      "source": [],
      "metadata": {
        "id": "vyFM1XZoYdwt"
      },
      "execution_count": 25,
      "outputs": []
    },
    {
      "cell_type": "markdown",
      "source": [
        "$(A^{*})^{T} = (A^{T})^{*} = A^{\\dagger}$"
      ],
      "metadata": {
        "id": "4RcXcasFWmNn"
      }
    },
    {
      "cell_type": "markdown",
      "source": [],
      "metadata": {
        "id": "w0B4X6eAYhi1"
      }
    },
    {
      "cell_type": "code",
      "source": [
        "## Unitary Matrix"
      ],
      "metadata": {
        "id": "dSDzn2cdT2aQ"
      },
      "execution_count": 26,
      "outputs": []
    },
    {
      "cell_type": "markdown",
      "source": [
        "$U^{\\dagger}U = I$ given that $U$ is a unitary matrix"
      ],
      "metadata": {
        "id": "Q23_GpUsXvGJ"
      }
    },
    {
      "cell_type": "markdown",
      "source": [
        "$\\implies$ Inverse of $U$is $U^{\\dagger}$"
      ],
      "metadata": {
        "id": "bzoSPsiOYAvS"
      }
    },
    {
      "cell_type": "markdown",
      "source": [
        "When acting on a vector, unitary matricies rotate/flip the vector, keeping the magnitude of the vector the same and we will see this is important in quantum computation."
      ],
      "metadata": {
        "id": "z6FCxCwTYnzw"
      }
    },
    {
      "cell_type": "code",
      "source": [
        "## Hermitian Matrix"
      ],
      "metadata": {
        "id": "3VWcw-KdY5Ej"
      },
      "execution_count": 27,
      "outputs": []
    },
    {
      "cell_type": "markdown",
      "source": [
        "$H = H^{\\dagger}$ given $H$ is a Hermitian matrix"
      ],
      "metadata": {
        "id": "9HGRMVWzY8wl"
      }
    },
    {
      "cell_type": "code",
      "source": [
        "## Eigenvectors and Eigenvalues"
      ],
      "metadata": {
        "id": "DKEtVLtmZTIZ"
      },
      "execution_count": 28,
      "outputs": []
    },
    {
      "cell_type": "markdown",
      "source": [
        "$A\\vec{v} = \\lambda\\vec{v}$ where $\\vec{v}$ is the Eigenvector (vector) and $\\lambda$ is the Eigenvalue (scalar) and $A$ is the matrix"
      ],
      "metadata": {
        "id": "qvXNenbcZ0bR"
      }
    },
    {
      "cell_type": "markdown",
      "source": [
        "Example"
      ],
      "metadata": {
        "id": "8R_f9cnMbnxe"
      }
    },
    {
      "cell_type": "markdown",
      "source": [
        "$\\begin{bmatrix}\n",
        "2 & 0 \\\\\n",
        "1 & 2 \\\\\n",
        "\\end{bmatrix}$\n",
        "$\\begin{bmatrix}\n",
        "0  \\\\\n",
        "3  \\\\\n",
        "\\end{bmatrix}$ =\n",
        "$\\begin{bmatrix}\n",
        "0 \\\\\n",
        "6\\\\\n",
        "\\end{bmatrix}$"
      ],
      "metadata": {
        "id": "2oz7_NNXbB9l"
      }
    },
    {
      "cell_type": "markdown",
      "source": [
        "Factor out a scalar, \\\\\n",
        "$\\begin{bmatrix}\n",
        "2 & 0 \\\\\n",
        "1 & 2 \\\\\n",
        "\\end{bmatrix}$\n",
        "$\\begin{bmatrix}\n",
        "0  \\\\\n",
        "3  \\\\\n",
        "\\end{bmatrix}$ =\n",
        "2 $\\begin{bmatrix}\n",
        "0 \\\\\n",
        "3\\\\\n",
        "\\end{bmatrix}$"
      ],
      "metadata": {
        "id": "DXjNB2kSbeua"
      }
    },
    {
      "cell_type": "code",
      "source": [],
      "metadata": {
        "id": "i5DQXbp9dgLg"
      },
      "execution_count": 28,
      "outputs": []
    },
    {
      "cell_type": "markdown",
      "source": [],
      "metadata": {
        "id": "_L5VVibndXCp"
      }
    },
    {
      "cell_type": "markdown",
      "source": [],
      "metadata": {
        "id": "o1jHkO7MdzFt"
      }
    },
    {
      "cell_type": "markdown",
      "source": [
        "$A\\vec{v} = \\lambda\\vec{v}$ where $\\vec{v}$ is $\\begin{bmatrix}\n",
        "0  \\\\\n",
        "3  \\\\\n",
        "\\end{bmatrix}$ the Eigenvector (vector) and $\\lambda$ is 2 the Eigenvalue (scalar) and $A$ is the matrix"
      ],
      "metadata": {
        "id": "Xr-MNGITcdo-"
      }
    },
    {
      "cell_type": "code",
      "source": [
        "## Single Quibit and Dirac Notation"
      ],
      "metadata": {
        "id": "3NJpLUaJdJNR"
      },
      "execution_count": 29,
      "outputs": []
    },
    {
      "cell_type": "markdown",
      "source": [
        "Classical Computers use Bits (0's and 1's)"
      ],
      "metadata": {
        "id": "-O52c0wLdSFu"
      }
    },
    {
      "cell_type": "markdown",
      "source": [
        "Quantum Computers use Qubits (can be 0 and 1 at the same time)"
      ],
      "metadata": {
        "id": "r8Bgf5BudXhY"
      }
    },
    {
      "cell_type": "markdown",
      "source": [
        "A qubit can be made from any quantum particle that has 2 distinct states. For example, a photon of light being polarized either horizontally or vertically."
      ],
      "metadata": {
        "id": "_WQHydPfdnUY"
      }
    },
    {
      "cell_type": "markdown",
      "source": [
        "We still use 0's and 1's but written in Dirac notation or bra-ket notation $|0\\rangle = \\begin{pmatrix} 1 \\\\ 0 \\end{pmatrix}, \\quad |1\\rangle = \\begin{pmatrix} 0 \\\\ 1 \\end{pmatrix}$\n"
      ],
      "metadata": {
        "id": "rufYKlnZd62x"
      }
    },
    {
      "cell_type": "code",
      "source": [
        "## Superposition"
      ],
      "metadata": {
        "id": "3MnLNjcndK78"
      },
      "execution_count": 30,
      "outputs": []
    },
    {
      "cell_type": "markdown",
      "source": [
        "Quantum particle is in two states simultaneously. A Qubit is in superposition if it is both $|0\\rangle$ and $|1\\rangle$ at the same time"
      ],
      "metadata": {
        "id": "t0wdmT4teopQ"
      }
    },
    {
      "cell_type": "markdown",
      "source": [
        "Back to our previous example, the proton of light is being both horizontally and vertically polarized."
      ],
      "metadata": {
        "id": "L5oMp7AUeyMn"
      }
    },
    {
      "cell_type": "markdown",
      "source": [
        "Qubits represented mathematically in the Dirac notation by $|\\psi\\rangle = \\begin{pmatrix} \\alpha \\\\ \\beta \\end{pmatrix}$"
      ],
      "metadata": {
        "id": "w_lYOoxaft_S"
      }
    },
    {
      "cell_type": "markdown",
      "source": [
        "$\\alpha$ represents how much the Qubit is in the $|0\\rangle$ state and the $\\beta$ represents how much the Qubit is in the $|1\\rangle$ state"
      ],
      "metadata": {
        "id": "rR1Y0lJHgRAD"
      }
    },
    {
      "cell_type": "markdown",
      "source": [
        "Hense, the following: $|0\\rangle = \\begin{pmatrix} 1 \\\\ 0 \\end{pmatrix}$ means that the Qubit is completely in the $|0\\rangle$ state, and $|1\\rangle = \\begin{pmatrix} 0 \\\\ 1 \\end{pmatrix}$ means that the Qubit is completely in the $|1\\rangle$ state"
      ],
      "metadata": {
        "id": "Vk99PshIg6Dk"
      }
    },
    {
      "cell_type": "code",
      "source": [
        "## Measurement a State of a Quantum Sytem"
      ],
      "metadata": {
        "id": "5_CnC1Rvh7LC"
      },
      "execution_count": 31,
      "outputs": []
    },
    {
      "cell_type": "markdown",
      "source": [
        "When we measure a quantum system, it collapses into the measured state"
      ],
      "metadata": {
        "id": "bVKDFr-DiAI-"
      }
    },
    {
      "cell_type": "markdown",
      "source": [
        "Back to our previous example...if we have a photon that is in a superposition of both vertically and horizontally polarized, when we measure it we can only measure it as horizontally or vertically polarized, and once it has been measured it will collaps into (becomes) the measured state."
      ],
      "metadata": {
        "id": "XdbE8nYOiObT"
      }
    },
    {
      "cell_type": "markdown",
      "source": [
        "So in this situation we have a photon in a superposition of both vertically and horizontally polarized and we measure it as horizontally polarized then it become horizontally polarized."
      ],
      "metadata": {
        "id": "-h_HX66MiiTL"
      }
    },
    {
      "cell_type": "code",
      "source": [
        "## Probability Measurment of a Qubit"
      ],
      "metadata": {
        "id": "f1RFuh-Oi71l"
      },
      "execution_count": 32,
      "outputs": []
    },
    {
      "cell_type": "markdown",
      "source": [
        "When we measure a qubit we only measure a 0 or a 1 whereby when we are measuing a qubit it collapses it's superposition due to the laws of quatum mechanics"
      ],
      "metadata": {
        "id": "oQaRPXIXjAed"
      }
    },
    {
      "cell_type": "markdown",
      "source": [
        "If we were to measure the qubit $|\\psi\\rangle = \\begin{pmatrix} \\alpha \\\\ \\beta \\end{pmatrix}$ we would not meausre $\\alpha$ or $\\beta$, we still only measure a 0 or a 1"
      ],
      "metadata": {
        "id": "WsEFDWK6jEih"
      }
    },
    {
      "cell_type": "markdown",
      "source": [
        "Probability of measuring $|\\psi\\rangle$ as 0 i: $|\\alpha|^2$ given $|\\psi\\rangle = \\begin{pmatrix} \\alpha \\\\ \\beta \\end{pmatrix}$"
      ],
      "metadata": {
        "id": "Ud7EG5GRjdiP"
      }
    },
    {
      "cell_type": "markdown",
      "source": [
        "Probability of measuring $|\\psi\\rangle$ as 1 i: $|\\beta|^2$ given $|\\psi\\rangle = \\begin{pmatrix} \\alpha \\\\ \\beta \\end{pmatrix}$"
      ],
      "metadata": {
        "id": "olgp5381j1fN"
      }
    },
    {
      "cell_type": "markdown",
      "source": [
        "For example, let's say we have $|\\psi\\rangle = \\begin{pmatrix} \\sqrt3/2 \\\\ 1/2 \\end{pmatrix}$"
      ],
      "metadata": {
        "id": "JxBF4tCgka_F"
      }
    },
    {
      "cell_type": "markdown",
      "source": [
        "We will have the probability of measuring $|\\psi\\rangle$ as 0 i: $|\\sqrt3/2|^2 = 3/4$"
      ],
      "metadata": {
        "id": "3BLlyAOxkHLz"
      }
    },
    {
      "cell_type": "markdown",
      "source": [
        "Likewise, we wil have the probability of measuring $|\\psi\\rangle$ as 1 i: $|1/2|^2 = 1/4$"
      ],
      "metadata": {
        "id": "d1a9j6X2kWNS"
      }
    },
    {
      "cell_type": "markdown",
      "source": [
        "Given $|0\\rangle = \\begin{pmatrix} 1 \\\\ 0 \\end{pmatrix}$ means that the Qubit is completely in the $|0\\rangle$ state, and $|1\\rangle = \\begin{pmatrix} 0 \\\\ 1 \\end{pmatrix}$ means that the Qubit is completely in the $|1\\rangle$ state"
      ],
      "metadata": {
        "id": "KKlZjG6DlGPu"
      }
    },
    {
      "cell_type": "markdown",
      "source": [
        "therefore, we have the probability of measuring a 0 is 1 for $|0\\rangle = \\begin{pmatrix} 1 \\\\ 0 \\end{pmatrix}$ and we have the probabililty of measuring 1 is 1 for $|1\\rangle = \\begin{pmatrix} 0 \\\\ 1 \\end{pmatrix}$"
      ],
      "metadata": {
        "id": "5ZvgscjHlPhQ"
      }
    },
    {
      "cell_type": "markdown",
      "source": [
        "Likewise, we have a valid Quibit state in the previous example since we have $|\\alpha|^2 + |\\beta|^2 = 1$"
      ],
      "metadata": {
        "id": "MBzaRnnfl2rV"
      }
    },
    {
      "cell_type": "code",
      "source": [
        "## Coverting Matrix Notation into Direct Notation"
      ],
      "metadata": {
        "id": "sqv-qy3Pnpkx"
      },
      "execution_count": 33,
      "outputs": []
    },
    {
      "cell_type": "markdown",
      "source": [
        "Dirac notation by $|\\psi\\rangle = \\begin{pmatrix} \\alpha \\\\ \\beta \\end{pmatrix}$"
      ],
      "metadata": {
        "id": "4FVL4cVhnuQD"
      }
    },
    {
      "cell_type": "markdown",
      "source": [
        "into the sum of two matrices $|\\psi\\rangle = \\begin{pmatrix} \\alpha \\\\ \\beta \\end{pmatrix}$ $= \\begin{pmatrix} \\alpha \\\\ 0 \\end{pmatrix}$ + $\\begin{pmatrix} 0 \\\\ \\beta \\end{pmatrix}$"
      ],
      "metadata": {
        "id": "pL0CbUxanyqK"
      }
    },
    {
      "cell_type": "markdown",
      "source": [
        "factor out $\\alpha$ and $\\beta$ and sum of two matrices $|\\psi\\rangle = \\begin{pmatrix} \\alpha \\\\ \\beta \\end{pmatrix}$ $= \\alpha \\begin{pmatrix} 1\\\\ 0 \\end{pmatrix}$ + $\\beta \\begin{pmatrix} 0 \\\\ 1 \\end{pmatrix}$"
      ],
      "metadata": {
        "id": "nHDWEARdoNLo"
      }
    },
    {
      "cell_type": "markdown",
      "source": [
        "given that we have the probability of measuring a 0 is 1 for $|0\\rangle = \\begin{pmatrix} 1 \\\\ 0 \\end{pmatrix}$ and we have the probabililty of measuring 1 is 1 for $|1\\rangle = \\begin{pmatrix} 0 \\\\ 1 \\end{pmatrix}$"
      ],
      "metadata": {
        "id": "FDc2x-bNov-P"
      }
    },
    {
      "cell_type": "markdown",
      "source": [
        "we now have $|\\psi\\rangle = \\begin{pmatrix} \\alpha \\\\ \\beta \\end{pmatrix}$ $= \\alpha|0\\rangle + \\beta|1\\rangle$ where $|x\\rangle$ are called Ket Vectors and represent a quantum state"
      ],
      "metadata": {
        "id": "Bkm0iRVxo7RC"
      }
    },
    {
      "cell_type": "markdown",
      "source": [
        "Write a quantum computing state by converting the following: $|\\psi\\rangle = \\begin{pmatrix} 1/2 \\\\ {2\\sqrt3}/4 \\end{pmatrix}$ $= 1/2|0\\rangle + {2\\sqrt3}/4|1\\rangle$"
      ],
      "metadata": {
        "id": "ZqIvS1mXqFl6"
      }
    },
    {
      "cell_type": "code",
      "source": [
        "## Bloch Sphere"
      ],
      "metadata": {
        "id": "sX6XvvEPrJu9"
      },
      "execution_count": 34,
      "outputs": []
    },
    {
      "cell_type": "markdown",
      "source": [
        "We can represent a qubit $|\\psi\\rangle$ as a point on the surface of the **Bloch Sphere**"
      ],
      "metadata": {
        "id": "T4dKqYoIrN_Z"
      }
    },
    {
      "cell_type": "markdown",
      "source": [
        "Create a Bloch Sphere for $|\\psi\\rangle = 1/2|0\\rangle + {2\\sqrt3}/4|1\\rangle$"
      ],
      "metadata": {
        "id": "GYkm6Nlorspk"
      }
    },
    {
      "cell_type": "code",
      "execution_count": 35,
      "metadata": {
        "colab": {
          "base_uri": "https://localhost:8080/",
          "height": 536
        },
        "id": "cAArvJbKSpD3",
        "outputId": "04a4a241-c6f9-43e3-ae13-523411034b7c"
      },
      "outputs": [
        {
          "output_type": "display_data",
          "data": {
            "text/plain": [
              "<Figure size 500x500 with 1 Axes>"
            ],
            "image/png": "[encoded data removed]"
          },
          "metadata": {}
        }
      ],
      "source": [
        "#!pip install qutip\n",
        "from qutip import Bloch, basis\n",
        "import numpy as np\n",
        "\n",
        "def create_bloch_sphere(state):\n",
        "    \"\"\"\n",
        "    Create a Bloch sphere and customize it with points, vectors, and annotations.\n",
        "    \"\"\"\n",
        "    # Create a Bloch sphere\n",
        "    bloch = Bloch()\n",
        "\n",
        "    # Add points to the Bloch sphere\n",
        "    bloch.add_points([0, 0, 1])  # |0⟩ state\n",
        "    bloch.add_points([0, 0, -1])  # |1⟩ state\n",
        "    bloch.add_points([1, 0, 0])  # |+⟩ state\n",
        "    bloch.add_points([-1, 0, 0])  # |-⟩ state\n",
        "\n",
        "    # Add the quantum state to the Bloch sphere\n",
        "    bloch.add_states(state)\n",
        "\n",
        "    # Add vectors to the Bloch sphere\n",
        "    bloch.add_vectors([0, 0, 1])  # |0⟩ to |1⟩ vector\n",
        "    bloch.add_vectors([1, 0, 0])  # |+⟩ to |-⟩ vector\n",
        "\n",
        "    # Add annotations to the Bloch sphere\n",
        "    bloch.add_annotation(basis(2, 0), \"|0⟩\")\n",
        "    bloch.add_annotation(basis(2, 1), \"|1⟩\")\n",
        "    bloch.add_annotation((basis(2, 0) + basis(2, 1)).unit(), \"|+⟩\")\n",
        "    bloch.add_annotation((basis(2, 0) - basis(2, 1)).unit(), \"|-⟩\")\n",
        "    bloch.add_annotation(state, \"|\\psi⟩\")\n",
        "\n",
        "    return bloch\n",
        "\n",
        "def plot_bloch_sphere(bloch):\n",
        "    \"\"\"\n",
        "    Plot the Bloch sphere.\n",
        "    \"\"\"\n",
        "    bloch.show()\n",
        "\n",
        "def main():\n",
        "    \"\"\"\n",
        "    Main function to create and plot the Bloch sphere for the given quantum state.\n",
        "    \"\"\"\n",
        "    # Define the quantum state |ψ⟩ = 1/2|0⟩ + √3/2|1⟩\n",
        "    state = 0.5 * basis(2, 0) + np.sqrt(3)/2 * basis(2, 1)\n",
        "\n",
        "    bloch = create_bloch_sphere(state)\n",
        "    plot_bloch_sphere(bloch)\n",
        "\n",
        "if __name__ == \"__main__\":\n",
        "    main()"
      ]
    },
    {
      "cell_type": "code",
      "source": [
        "## Qubit X, Y and Z Gates"
      ],
      "metadata": {
        "id": "YRb1bnTGtjQY"
      },
      "execution_count": 36,
      "outputs": []
    },
    {
      "cell_type": "markdown",
      "source": [
        "Qubit X-gate flips the qubit $\\pi$ radians around the x-axis on the **Bloch Sphere.**"
      ],
      "metadata": {
        "id": "__zGRZgOt_Of"
      }
    },
    {
      "cell_type": "code",
      "source": [
        "#!pip install qutip\n",
        "from qutip import Bloch, basis, sigmax\n",
        "\n",
        "def create_bloch_sphere(initial_state, final_state):\n",
        "    \"\"\"\n",
        "    Create a Bloch sphere and customize it with initial and final states.\n",
        "    \"\"\"\n",
        "    # Create a Bloch sphere\n",
        "    bloch = Bloch()\n",
        "\n",
        "    # Add the initial state to the Bloch sphere\n",
        "    bloch.add_states(initial_state)\n",
        "\n",
        "    # Add the final state to the Bloch sphere\n",
        "    bloch.add_states(final_state)\n",
        "\n",
        "    # Add vectors to the Bloch sphere\n",
        "    bloch.add_vectors([1, 0, 0])  # |+⟩ to |-⟩ vector\n",
        "\n",
        "    # Add annotations to the Bloch sphere\n",
        "    bloch.add_annotation(basis(2, 0), r\"$|0\\rangle$\", fontsize=12)\n",
        "    bloch.add_annotation(basis(2, 1), r\"$|1\\rangle$\", fontsize=12)\n",
        "    bloch.add_annotation((basis(2, 0) + basis(2, 1)).unit(), r\"$|+\\rangle$\", fontsize=12)\n",
        "    bloch.add_annotation((basis(2, 0) - basis(2, 1)).unit(), r\"$|-\\rangle$\", fontsize=12)\n",
        "    bloch.add_annotation(initial_state, r\"$|\\psi_0\\rangle$\", fontsize=12)\n",
        "    bloch.add_annotation(final_state, r\"$|\\psi_1\\rangle$\", fontsize=12)\n",
        "\n",
        "    return bloch\n",
        "\n",
        "def plot_bloch_sphere(bloch):\n",
        "    \"\"\"\n",
        "    Plot the Bloch sphere.\n",
        "    \"\"\"\n",
        "    bloch.show()\n",
        "\n",
        "def main():\n",
        "    \"\"\"\n",
        "    Main function to create and plot the Bloch sphere demonstrating the X gate.\n",
        "    \"\"\"\n",
        "    # Define the initial state of the qubit\n",
        "    initial_state = (basis(2, 0) + basis(2, 1)).unit()  # |+⟩\n",
        "\n",
        "    # Apply the X gate to the initial state\n",
        "    x_gate = sigmax()\n",
        "    final_state = x_gate * initial_state\n",
        "\n",
        "    bloch = create_bloch_sphere(initial_state, final_state)\n",
        "    plot_bloch_sphere(bloch)\n",
        "\n",
        "if __name__ == \"__main__\":\n",
        "    main()"
      ],
      "metadata": {
        "colab": {
          "base_uri": "https://localhost:8080/",
          "height": 536
        },
        "id": "u2Nmi3jUuBsU",
        "outputId": "b7a62b42-3938-4e26-ef7e-1c189d0b26b0"
      },
      "execution_count": 37,
      "outputs": [
        {
          "output_type": "display_data",
          "data": {
            "text/plain": [
              "<Figure size 500x500 with 1 Axes>"
            ],
            "image/png": "[encoded data removed]"
          },
          "metadata": {}
        }
      ]
    },
    {
      "cell_type": "markdown",
      "source": [
        "Qubit Y-gate flips the qubit  π  radians around the y-axis on the Bloch Sphere."
      ],
      "metadata": {
        "id": "L47wQF42ufpG"
      }
    },
    {
      "cell_type": "code",
      "source": [
        "#!pip install qutip\n",
        "from qutip import Bloch, basis, sigmay\n",
        "\n",
        "def create_bloch_sphere(initial_state, final_state):\n",
        "    \"\"\"\n",
        "    Create a Bloch sphere and customize it with initial and final states.\n",
        "    \"\"\"\n",
        "    # Create a Bloch sphere\n",
        "    bloch = Bloch()\n",
        "\n",
        "    # Add the initial state to the Bloch sphere\n",
        "    bloch.add_states(initial_state)\n",
        "\n",
        "    # Add the final state to the Bloch sphere\n",
        "    bloch.add_states(final_state)\n",
        "\n",
        "    # Add vectors to the Bloch sphere\n",
        "    bloch.add_vectors([0, 1, 0])  # |+i⟩ to |-i⟩ vector\n",
        "\n",
        "    # Add annotations to the Bloch sphere\n",
        "    bloch.add_annotation(basis(2, 0), r\"$|0\\rangle$\", fontsize=12)\n",
        "    bloch.add_annotation(basis(2, 1), r\"$|1\\rangle$\", fontsize=12)\n",
        "    bloch.add_annotation((basis(2, 0) + 1j * basis(2, 1)).unit(), r\"$|\\chi_+\\rangle$\", fontsize=12)\n",
        "    bloch.add_annotation((basis(2, 0) - 1j * basis(2, 1)).unit(), r\"$|\\chi_-\\rangle$\", fontsize=12)\n",
        "    bloch.add_annotation(initial_state, r\"$|\\psi_0\\rangle$\", fontsize=12)\n",
        "    bloch.add_annotation(final_state, r\"$|\\psi_1\\rangle$\", fontsize=12)\n",
        "\n",
        "    return bloch\n",
        "\n",
        "def plot_bloch_sphere(bloch):\n",
        "    \"\"\"\n",
        "    Plot the Bloch sphere.\n",
        "    \"\"\"\n",
        "    bloch.show()\n",
        "\n",
        "def main():\n",
        "    \"\"\"\n",
        "    Main function to create and plot the Bloch sphere demonstrating the Y gate.\n",
        "    \"\"\"\n",
        "    # Define the initial state of the qubit\n",
        "    initial_state = (basis(2, 0) + 1j * basis(2, 1)).unit()  # |+i⟩\n",
        "\n",
        "    # Apply the Y gate to the initial state\n",
        "    y_gate = sigmay()\n",
        "    final_state = y_gate * initial_state\n",
        "\n",
        "    bloch = create_bloch_sphere(initial_state, final_state)\n",
        "    plot_bloch_sphere(bloch)\n",
        "\n",
        "if __name__ == \"__main__\":\n",
        "    main()"
      ],
      "metadata": {
        "colab": {
          "base_uri": "https://localhost:8080/",
          "height": 536
        },
        "id": "ZnPNUkUcuint",
        "outputId": "d2128c36-8bb6-497e-85a4-3c6b3b014598"
      },
      "execution_count": 38,
      "outputs": [
        {
          "output_type": "display_data",
          "data": {
            "text/plain": [
              "<Figure size 500x500 with 1 Axes>"
            ],
            "image/png": "[encoded data removed]"
          },
          "metadata": {}
        }
      ]
    },
    {
      "cell_type": "markdown",
      "source": [
        "Qubit Z-gate flips the qubit π radians around the z-axis on the Bloch Sphere."
      ],
      "metadata": {
        "id": "qgJbVD2FvSmw"
      }
    },
    {
      "cell_type": "code",
      "source": [
        "#!pip install qutip\n",
        "from qutip import Bloch, basis, sigmaz\n",
        "\n",
        "def create_bloch_sphere(initial_state, final_state):\n",
        "    \"\"\"\n",
        "    Create a Bloch sphere and customize it with initial and final states.\n",
        "    \"\"\"\n",
        "    # Create a Bloch sphere\n",
        "    bloch = Bloch()\n",
        "\n",
        "    # Add the initial state to the Bloch sphere\n",
        "    bloch.add_states(initial_state)\n",
        "\n",
        "    # Add the final state to the Bloch sphere\n",
        "    bloch.add_states(final_state)\n",
        "\n",
        "    # Add vectors to the Bloch sphere\n",
        "    bloch.add_vectors([0, 0, 1])  # |0⟩ to |1⟩ vector\n",
        "\n",
        "    # Add annotations to the Bloch sphere\n",
        "    bloch.add_annotation(basis(2, 0), r\"$|0\\rangle$\", fontsize=12)\n",
        "    bloch.add_annotation(basis(2, 1), r\"$|1\\rangle$\", fontsize=12)\n",
        "    bloch.add_annotation(initial_state, r\"$|\\psi_0\\rangle$\", fontsize=12)\n",
        "    bloch.add_annotation(final_state, r\"$|\\psi_1\\rangle$\", fontsize=12)\n",
        "\n",
        "    return bloch\n",
        "\n",
        "def plot_bloch_sphere(bloch):\n",
        "    \"\"\"\n",
        "    Plot the Bloch sphere.\n",
        "    \"\"\"\n",
        "    bloch.show()\n",
        "\n",
        "def main():\n",
        "    \"\"\"\n",
        "    Main function to create and plot the Bloch sphere demonstrating the Z gate.\n",
        "    \"\"\"\n",
        "    # Define the initial state of the qubit\n",
        "    initial_state = basis(2, 0)  # |0⟩\n",
        "\n",
        "    # Apply the Z gate to the initial state\n",
        "    z_gate = sigmaz()\n",
        "    final_state = z_gate * initial_state\n",
        "\n",
        "    bloch = create_bloch_sphere(initial_state, final_state)\n",
        "    plot_bloch_sphere(bloch)\n",
        "\n",
        "if __name__ == \"__main__\":\n",
        "    main()"
      ],
      "metadata": {
        "colab": {
          "base_uri": "https://localhost:8080/",
          "height": 536
        },
        "id": "-XyDh_rEvlIw",
        "outputId": "0e3dd4bb-d65f-4326-fc55-a7a70b3c0fe5"
      },
      "execution_count": 39,
      "outputs": [
        {
          "output_type": "display_data",
          "data": {
            "text/plain": [
              "<Figure size 500x500 with 1 Axes>"
            ],
            "image/png": "[encoded data removed]"
          },
          "metadata": {}
        }
      ]
    },
    {
      "cell_type": "markdown",
      "source": [
        "**X, Y, Z gates are their own inverses** when we apply the same gate twice, that is the qubit will end up in the original state or rotate around $2\\pi$ radians since a single X, Y, Z gates only rotates around the spcified axis $\\pi$ radians."
      ],
      "metadata": {
        "id": "-KfxRC1xxU1o"
      }
    },
    {
      "cell_type": "markdown",
      "source": [
        "Note that X, Y, Z gates are also referred to as Pauli gates.  The Pauli gates, being linked to the foundational concepts of quantum mechanics, are named in honor of Wolfgang Pauli, whose work significantly contributed to the development of quantum theory."
      ],
      "metadata": {
        "id": "sDXKlpRu3WW4"
      }
    },
    {
      "cell_type": "markdown",
      "source": [
        "X, Y, Z gates represented as matrices \\\\\n",
        "$X = \\begin{pmatrix} 0 & 1 \\\\ 1 & 0 \\end{pmatrix}$\n",
        "$Y = \\begin{pmatrix} 0 & -i \\\\ i & 0 \\end{pmatrix}$\n",
        "$Z = \\begin{pmatrix} 1 & 0 \\\\ 0 & -1 \\end{pmatrix}$"
      ],
      "metadata": {
        "id": "B2ayN1VayJLU"
      }
    },
    {
      "cell_type": "markdown",
      "source": [
        "Inverse Example: Applying X gate to an arbitrary qubit $|\\psi\\rangle = \\begin{pmatrix} \\alpha \\\\ \\beta \\end{pmatrix}$ \\\\\n",
        "$X|\\psi\\rangle = \\begin{pmatrix} 0 & 1 \\\\ 1 & 0 \\end{pmatrix}$ $ \\begin{pmatrix} \\alpha \\\\ \\beta \\end{pmatrix}$ = $\\begin{pmatrix} \\beta \\\\ \\alpha \\end{pmatrix}$\n"
      ],
      "metadata": {
        "id": "nCgMfFpazEbB"
      }
    },
    {
      "cell_type": "markdown",
      "source": [
        "that results in an $X$ gate to $|0\\rangle$ gives $|1\\rangle$ is shown by $|\\psi\\rangle =$\n",
        "$X|0\\rangle = \\begin{pmatrix} 0 & 1 \\\\ 1 & 0 \\end{pmatrix}$ $ \\begin{pmatrix} 1 \\\\ 0 \\end{pmatrix}$ = $\\begin{pmatrix} 1 \\\\ 0\\end{pmatrix}$ = $|1\\rangle$"
      ],
      "metadata": {
        "id": "_KUoMHpk0cDE"
      }
    },
    {
      "cell_type": "code",
      "source": [
        "## Disgard Global Phase and Keep Relative Phase"
      ],
      "metadata": {
        "id": "OZx3HFR6qh0p"
      },
      "execution_count": 40,
      "outputs": []
    },
    {
      "cell_type": "markdown",
      "source": [
        "We can represent the phase by using complex numbers. So representing i as a complex number and in the **Exponential Form** and we have $i = -1 = e^{i\\pi}$ to mathmatically demostrate rotation around a circle by changing the value of $\\phi$ in $e^{i\\phi}$ where in this case $\\phi = \\pi$"
      ],
      "metadata": {
        "id": "SMB445LAqp0G"
      }
    },
    {
      "cell_type": "markdown",
      "source": [
        "Global phase can be shown by multiplying both $|0\\rangle$ and  $|1\\rangle$ by $e^{i\\pi}$, we rotate around the z-axis (on the Bloch Sphere) by $\\phi$ radians. \\\\\n",
        "Represented by $|\\psi\\rangle =$ $e^{i\\pi}\\alpha|0\\rangle + e^{i\\pi}\\beta|1\\rangle$\n",
        "However, we can discard Global phase and use only relative phase."
      ],
      "metadata": {
        "id": "yFY-9TL3vSwL"
      }
    },
    {
      "cell_type": "markdown",
      "source": [
        "Relative phase can be shown by multiplying the $|1\\rangle$ by $e^{i\\pi}$, we rotate around the z-axis (on the Bloch Sphere) by $\\phi$ radians. \\\\\n",
        "Represented by $|\\psi\\rangle =$ $\\alpha|0\\rangle + e^{i\\pi}\\beta|1\\rangle$"
      ],
      "metadata": {
        "id": "irC-u-zYuDQM"
      }
    },
    {
      "cell_type": "code",
      "source": [
        "## Qubit Hadamard Gate"
      ],
      "metadata": {
        "id": "Y8_0RaVCoj1g"
      },
      "execution_count": 41,
      "outputs": []
    },
    {
      "cell_type": "markdown",
      "source": [
        "The **Hadamard Gate** is it's own inverse"
      ],
      "metadata": {
        "id": "3HnzOKhwqPIU"
      }
    },
    {
      "cell_type": "markdown",
      "source": [
        "Arguably the **Hadmard Gate** is most important gate in quantum computing."
      ],
      "metadata": {
        "id": "HANOni2kwV0K"
      }
    },
    {
      "cell_type": "markdown",
      "source": [
        "On the equator of the **Bloch Spher**e we have four states $|+\\rangle$, $|i\\rangle$, $|-\\rangle$, $|-i\\rangle$ and represent shorthand for commonly used states in quantum computation. All these states have the even chance of beining measured aa 0 or 1 but each have a different **Relative Phase.**"
      ],
      "metadata": {
        "id": "UflN39NBw13o"
      }
    },
    {
      "cell_type": "markdown",
      "source": [
        "Let's define each state"
      ],
      "metadata": {
        "id": "SzlhZgvayPIm"
      }
    },
    {
      "cell_type": "markdown",
      "source": [
        "$|+\\rangle$ $= 1\\sqrt2|0\\rangle$ $+ 1\\sqrt2|1\\rangle$"
      ],
      "metadata": {
        "id": "1W2UPmwbzo1k"
      }
    },
    {
      "cell_type": "markdown",
      "source": [
        "$|i\\rangle$ $= 1\\sqrt2|0\\rangle$ $- 1\\sqrt2|1\\rangle$"
      ],
      "metadata": {
        "id": "wksVDzZLzQUh"
      }
    },
    {
      "cell_type": "markdown",
      "source": [
        "$|-\\rangle$ $= 1\\sqrt2|0\\rangle$ $+ i\\sqrt2|1\\rangle$"
      ],
      "metadata": {
        "id": "zvwDH2mCzD7H"
      }
    },
    {
      "cell_type": "markdown",
      "source": [
        "$|-i\\rangle$ $= 1\\sqrt2|0\\rangle$ $- i\\sqrt2|1\\rangle$"
      ],
      "metadata": {
        "id": "5AdIsXEuzd8W"
      }
    },
    {
      "cell_type": "markdown",
      "source": [
        "$H = 1/ \\sqrt2$\n",
        "$\\begin{bmatrix}\n",
        "1 & 1 \\\\\n",
        "1 & -1\n",
        "\\end{bmatrix}$"
      ],
      "metadata": {
        "id": "4bLn9XiNomLm"
      }
    },
    {
      "cell_type": "markdown",
      "source": [
        "$|0\\rangle \\overset{H}{\\rightarrow}|+\\rangle$ \\\\\n",
        "$|1\\rangle \\overset{H}{\\rightarrow}|-\\rangle$"
      ],
      "metadata": {
        "id": "BHHEsiLFpJqY"
      }
    },
    {
      "cell_type": "markdown",
      "source": [
        "$|+\\rangle \\overset{H}{\\rightarrow}|0\\rangle$ \\\\\n",
        "$|-\\rangle \\overset{H}{\\rightarrow}|1\\rangle$"
      ],
      "metadata": {
        "id": "ChxeYpJSqHEE"
      }
    },
    {
      "cell_type": "markdown",
      "source": [
        "In Direc Notation $H(\\alpha|0\\rangle + e^{i\\phi}\\beta|1\\rangle)$ $= \\alpha H|0 \\rangle$ $ + e^{i\\phi}\\beta|1\\rangle$ $= \\alpha |+ \\rangle$ $ + e^{i\\phi}\\beta|-\\rangle$"
      ],
      "metadata": {
        "id": "b01caRls0MU9"
      }
    },
    {
      "cell_type": "markdown",
      "source": [
        "thus, we have $H(\\alpha|0\\rangle + e^{i\\phi}\\beta|1\\rangle)$ $= (\\alpha + e^{i\\phi} \\beta / \\sqrt2 ) |0 \\rangle + (\\alpha - e^{i\\phi}\\beta / \\sqrt2)|1\\rangle$"
      ],
      "metadata": {
        "id": "DYoLLvQ13z2e"
      }
    },
    {
      "cell_type": "markdown",
      "source": [
        "Using Cirq (Google) to create a Hadmard Gate"
      ],
      "metadata": {
        "id": "rAB0y-DqLfmT"
      }
    },
    {
      "cell_type": "markdown",
      "source": [
        "In the code snippet:\n",
        "\n",
        "We import the cirq module, which provides the necessary functions and classes for working with quantum circuits.\n",
        "\n",
        "We define a single qubit using cirq.NamedQubit('q') and assign it to the variable qubit.\n",
        "\n",
        "We create a quantum circuit using cirq.Circuit and pass in two operations:\n",
        "\n",
        "cirq.H(qubit): This applies the Hadamard gate (H) to the qubit q.\n",
        "\n",
        "cirq.measure(qubit, key='m'): This measures the state of the qubit q and stores the measurement result in the key 'm'.\n",
        "\n",
        "Finally, we use circuit.to_text_diagram() to print a text-based diagram of the quantum circuit.\n",
        "\n",
        "In the diagram, the H represents the Hadamard gate, and M('m') represents the measurement operation with the key 'm'."
      ],
      "metadata": {
        "id": "vkEDJRu4Lra1"
      }
    },
    {
      "cell_type": "markdown",
      "source": [
        "The Hadamard gate is a widely used gate in quantum computing. When applied to a qubit in the state |0⟩ or |1⟩, it creates an equal superposition of the |0⟩ and |1⟩ states. The Hadamard gate is an important operation in various quantum algorithms and quantum circuit transformations."
      ],
      "metadata": {
        "id": "6NoHiI68L6Qo"
      }
    },
    {
      "cell_type": "code",
      "source": [
        "#!pip install cirq\n",
        "import cirq\n",
        "\n",
        "# Define a qubit\n",
        "qubit = cirq.NamedQubit('q')\n",
        "\n",
        "# Create a quantum circuit\n",
        "circuit = cirq.Circuit(\n",
        "    cirq.H(qubit),  # Apply Hadamard gate\n",
        "    cirq.measure(qubit, key='m')  # Measure the qubit\n",
        ")\n",
        "\n",
        "# Draw the circuit\n",
        "print(circuit.to_text_diagram())"
      ],
      "metadata": {
        "colab": {
          "base_uri": "https://localhost:8080/"
        },
        "id": "D2SWXWr_LXWe",
        "outputId": "5af9116f-6f74-4928-8b97-183093b944a4"
      },
      "execution_count": 42,
      "outputs": [
        {
          "output_type": "stream",
          "name": "stdout",
          "text": [
            "q: ───H───M('m')───\n"
          ]
        }
      ]
    },
    {
      "cell_type": "code",
      "source": [
        "## Qubit Phase Gates S and T"
      ],
      "metadata": {
        "id": "v4LwoK7f4feV"
      },
      "execution_count": 43,
      "outputs": []
    },
    {
      "cell_type": "markdown",
      "source": [
        "$S = \\begin{pmatrix} 1 & 0 \\\\ 0 & e^{i\\pi/2} \\end{pmatrix}$ \\\\\n",
        "$|0\\rangle \\overset{S}{\\rightarrow}|0\\rangle$ \\\\\n",
        "$|1\\rangle \\overset{S}{\\rightarrow}e^{i\\pi/2}|1\\rangle$ \\\\\n",
        "Add a relative phase of $e^{i\\pi/2}$ \\\\\n",
        "We have $\\alpha|0\\rangle + \\beta|1\\rangle$ $\\overset{S}{\\rightarrow} \\alpha +  e^{i\\pi/2}\\beta|1\\rangle$"
      ],
      "metadata": {
        "id": "mSBxiNy84saH"
      }
    },
    {
      "cell_type": "markdown",
      "source": [
        "Using Cirq (Google) to create a S Gate"
      ],
      "metadata": {
        "id": "oZya1hqFMfnf"
      }
    },
    {
      "cell_type": "markdown",
      "source": [
        "In the code snippet:\n",
        "\n",
        "We import the cirq module, which provides the necessary functions and classes for working with quantum circuits.\n",
        "\n",
        "We define a single qubit using cirq.NamedQubit('q') and assign it to the variable qubit.\n",
        "\n",
        "We create a quantum circuit using cirq.Circuit and pass in two operations:\n",
        "\n",
        "cirq.S(qubit): This applies the S gate (also known as the phase gate or √Z gate) to the qubit q.\n",
        "\n",
        "cirq.measure(qubit, key='m'): This measures the state of the qubit q and stores the measurement result in the key 'm'.\n",
        "\n",
        "Finally, we use circuit.to_text_diagram() to print a text-based diagram of the quantum circuit.\n",
        "\n",
        "In the diagram, the S represents the S gate, and M('m') represents the measurement operation with the key 'm'."
      ],
      "metadata": {
        "id": "PMbS5-r_MOO7"
      }
    },
    {
      "cell_type": "markdown",
      "source": [
        "The S gate is a single-qubit gate in quantum computing. It applies a phase shift of π/2 (90 degrees) to the |1⟩ state of the qubit, leaving the |0⟩ state unchanged."
      ],
      "metadata": {
        "id": "eOtTB71PMWHS"
      }
    },
    {
      "cell_type": "code",
      "source": [
        "#!pip install cirq\n",
        "import cirq\n",
        "\n",
        "# Define a qubit\n",
        "qubit = cirq.NamedQubit('q')\n",
        "\n",
        "# Create a quantum circuit\n",
        "circuit = cirq.Circuit(\n",
        "    cirq.S(qubit),  # Apply S gate\n",
        "    cirq.measure(qubit, key='m')  # Measure the qubit\n",
        ")\n",
        "\n",
        "# Draw the circuit\n",
        "print(circuit.to_text_diagram())"
      ],
      "metadata": {
        "colab": {
          "base_uri": "https://localhost:8080/"
        },
        "id": "b1vL-IwlMCXp",
        "outputId": "7f90773f-f98b-44c7-aa13-2ef75b7b55dd"
      },
      "execution_count": 44,
      "outputs": [
        {
          "output_type": "stream",
          "name": "stdout",
          "text": [
            "q: ───S───M('m')───\n"
          ]
        }
      ]
    },
    {
      "cell_type": "markdown",
      "source": [
        "$T = \\begin{pmatrix} 1 & 0 \\\\ 0 & e^{i\\pi/4} \\end{pmatrix}$ \\\\\n",
        "$|0\\rangle \\overset{T}{\\rightarrow}|0\\rangle$ \\\\\n",
        "$|1\\rangle \\overset{T}{\\rightarrow}e^{i\\pi/4}|1\\rangle$ \\\\\n",
        "Add a relative phase of $e^{i\\pi/4}$ \\\\\n",
        "We have $\\alpha|0\\rangle + \\beta|1\\rangle$ $\\overset{T}{\\rightarrow} \\alpha +  e^{i\\pi/4}\\beta|1\\rangle$"
      ],
      "metadata": {
        "id": "zifVA45G9gHH"
      }
    },
    {
      "cell_type": "markdown",
      "source": [
        "Using Cirq (Google) to create a T Gate"
      ],
      "metadata": {
        "id": "rGrjb9cHMljL"
      }
    },
    {
      "cell_type": "markdown",
      "source": [
        "In the code snippet:\n",
        "\n",
        "We import the cirq module, which provides the necessary functions and classes for working with quantum circuits.\n",
        "\n",
        "We define a single qubit using cirq.NamedQubit('q') and assign it to the variable qubit.\n",
        "\n",
        "We create a quantum circuit using cirq.Circuit and pass in two operations:\n",
        "\n",
        "cirq.T(qubit): This applies the T gate (also known as the π/8 gate or √√S gate) to the qubit q.\n",
        "\n",
        "cirq.measure(qubit, key='m'): This measures the state of the qubit q and stores the measurement result in the key 'm'.\n",
        "\n",
        "Finally, we use circuit.to_text_diagram() to print a text-based diagram of the quantum circuit.\n",
        "\n",
        "In the diagram, the T represents the T gate, and M('m') represents the measurement operation with the key 'm'."
      ],
      "metadata": {
        "id": "ssZm_ztAMwAn"
      }
    },
    {
      "cell_type": "markdown",
      "source": [
        "The T gate is a single-qubit gate in quantum computing. It applies a phase shift of π/4 (45 degrees) to the |1⟩ state of the qubit, leaving the |0⟩ state unchanged."
      ],
      "metadata": {
        "id": "UdVksTIAM64F"
      }
    },
    {
      "cell_type": "code",
      "source": [
        "#!pip install cirq\n",
        "import cirq\n",
        "\n",
        "# Define a qubit\n",
        "qubit = cirq.NamedQubit('q')\n",
        "\n",
        "# Create a quantum circuit\n",
        "circuit = cirq.Circuit(\n",
        "    cirq.T(qubit),  # Apply T gate\n",
        "    cirq.measure(qubit, key='m')  # Measure the qubit\n",
        ")\n",
        "\n",
        "# Draw the circuit\n",
        "print(circuit.to_text_diagram())"
      ],
      "metadata": {
        "colab": {
          "base_uri": "https://localhost:8080/"
        },
        "id": "JkVYOhU0MqJb",
        "outputId": "eb87416a-11c1-404f-ad3f-29dbf2d8391f"
      },
      "execution_count": 45,
      "outputs": [
        {
          "output_type": "stream",
          "name": "stdout",
          "text": [
            "q: ───T───M('m')───\n"
          ]
        }
      ]
    },
    {
      "cell_type": "code",
      "source": [
        "## Qubit Inverse of Phase Gates S and T"
      ],
      "metadata": {
        "id": "3rpb36Oy9qI3"
      },
      "execution_count": 46,
      "outputs": []
    },
    {
      "cell_type": "markdown",
      "source": [
        "Let see how we get the inverse phase gates $S^{\\dagger}$ and $T^{\\dagger}$ \\\\\n",
        "Now, add a relative phase of $e^{i-(\\pi/2)}$ \\\\\n",
        "$S^{\\dagger} = \\begin{pmatrix} 1 & 0 \\\\ 0 & e^{i-(\\pi/2)} \\end{pmatrix}$ \\\\\n",
        "and add a relative phase of $e^{i-(\\pi/4)}$ \\\\\n",
        "$T^{\\dagger} = \\begin{pmatrix} 1 & 0 \\\\ 0 & e^{i-(\\pi/4)} \\end{pmatrix}$ \\\\\n"
      ],
      "metadata": {
        "id": "3klBHfmj-WcO"
      }
    },
    {
      "cell_type": "markdown",
      "source": [
        "Using Cirq (Google) to create a Inverse S Gate"
      ],
      "metadata": {
        "id": "TzOPFT5UNNhO"
      }
    },
    {
      "cell_type": "markdown",
      "source": [
        "In the code snippet:\n",
        "\n",
        "We import the cirq module, which provides the necessary functions and classes for working with quantum circuits.\n",
        "\n",
        "We define a single qubit using cirq.NamedQubit('q') and assign it to the variable qubit.\n",
        "\n",
        "We create a quantum circuit using cirq.Circuit and pass in two operations:\n",
        "\n",
        "cirq.inverse(cirq.S)(qubit): This applies the inverse of the S gate (or inverse phase gate) to the qubit q. The cirq.inverse() function is used to obtain the inverse of a given gate, and cirq.S is the S gate.\n",
        "\n",
        "cirq.measure(qubit, key='m'): This measures the state of the qubit q and stores the measurement result in the key 'm'.\n",
        "\n",
        "Finally, we use circuit.to_text_diagram() to print a text-based diagram of the quantum circuit.\n",
        "\n",
        "In the diagram, the S† represents the inverse S gate (or inverse phase gate), and M('m') represents the measurement operation with the key 'm'."
      ],
      "metadata": {
        "id": "VNQ7qsVANcMg"
      }
    },
    {
      "cell_type": "markdown",
      "source": [
        "The inverse S gate, denoted as S†, is the inverse operation of the S gate. It applies a phase shift of -π/2 (-90 degrees) to the |1⟩ state of the qubit, leaving the |0⟩ state unchanged. The inverse S gate is represented by the following matrix:"
      ],
      "metadata": {
        "id": "i2KcZx5uNidr"
      }
    },
    {
      "cell_type": "code",
      "source": [
        "#!pip install cirq\n",
        "import cirq\n",
        "\n",
        "# Define a qubit\n",
        "qubit = cirq.NamedQubit('q')\n",
        "\n",
        "# Create a quantum circuit\n",
        "circuit = cirq.Circuit(\n",
        "    cirq.inverse(cirq.S)(qubit),  # Apply inverse S gate\n",
        "    cirq.measure(qubit, key='m')  # Measure the qubit\n",
        ")\n",
        "\n",
        "# Draw the circuit\n",
        "print(circuit.to_text_diagram())"
      ],
      "metadata": {
        "colab": {
          "base_uri": "https://localhost:8080/"
        },
        "id": "yYReJqPhNTbW",
        "outputId": "9cc01686-1eeb-42ca-e920-8f049fbb03fb"
      },
      "execution_count": 47,
      "outputs": [
        {
          "output_type": "stream",
          "name": "stdout",
          "text": [
            "q: ───S^-1───M('m')───\n"
          ]
        }
      ]
    },
    {
      "cell_type": "markdown",
      "source": [
        "Using Cirq (Google) to create a Inverse T Gate"
      ],
      "metadata": {
        "id": "aSh0ybAONoP3"
      }
    },
    {
      "cell_type": "markdown",
      "source": [
        "In the code snippet:\n",
        "\n",
        "We import the cirq module, which provides the necessary functions and classes for working with quantum circuits.\n",
        "\n",
        "We define a single qubit using cirq.NamedQubit('q') and assign it to the variable qubit.\n",
        "\n",
        "We create a quantum circuit using cirq.Circuit and pass in two operations:\n",
        "\n",
        "cirq.inverse(cirq.T)(qubit): This applies the inverse of the T gate (or inverse π/8 gate) to the qubit q. The cirq.inverse() function is used to obtain the inverse of a given gate, and cirq.T is the T gate.\n",
        "\n",
        "cirq.measure(qubit, key='m'): This measures the state of the qubit q and stores the measurement result in the key 'm'.\n",
        "\n",
        "Finally, we use circuit.to_text_diagram() to print a text-based diagram of the quantum circuit.\n",
        "\n",
        "In the diagram, the T† represents the inverse T gate (or inverse π/8 gate), and M('m') represents the measurement operation with the key 'm'."
      ],
      "metadata": {
        "id": "u1tCk-jZN0zv"
      }
    },
    {
      "cell_type": "markdown",
      "source": [
        "The inverse T gate, denoted as T†, is the inverse operation of the T gate. It applies a phase shift of -π/4 (-45 degrees) to the |1⟩ state of the qubit, leaving the |0⟩ state unchanged."
      ],
      "metadata": {
        "id": "vxoP1aFWN68c"
      }
    },
    {
      "cell_type": "code",
      "source": [
        "#!pip install cirq\n",
        "import cirq\n",
        "\n",
        "# Define a qubit\n",
        "qubit = cirq.NamedQubit('q')\n",
        "\n",
        "# Create a quantum circuit\n",
        "circuit = cirq.Circuit(\n",
        "    cirq.inverse(cirq.T)(qubit),  # Apply inverse T gate\n",
        "    cirq.measure(qubit, key='m')  # Measure the qubit\n",
        ")\n",
        "\n",
        "# Draw the circuit\n",
        "print(circuit.to_text_diagram())"
      ],
      "metadata": {
        "colab": {
          "base_uri": "https://localhost:8080/"
        },
        "id": "c7ub-hpkNsZ0",
        "outputId": "919eaf87-a230-4755-e5d5-281ace1c3ae0"
      },
      "execution_count": 48,
      "outputs": [
        {
          "output_type": "stream",
          "name": "stdout",
          "text": [
            "q: ───T^-1───M('m')───\n"
          ]
        }
      ]
    },
    {
      "cell_type": "code",
      "source": [
        "## Multiple Qubits Using Tensor Product"
      ],
      "metadata": {
        "id": "2o-BRg6j_1iU"
      },
      "execution_count": 49,
      "outputs": []
    },
    {
      "cell_type": "markdown",
      "source": [
        "Two quibits in zero state can be representatd by using the Tensor Product symbol $ \\otimes$, so we have the following: $|0\\rangle \\otimes |0\\rangle $"
      ],
      "metadata": {
        "id": "k3GyQa_-AHNC"
      }
    },
    {
      "cell_type": "markdown",
      "source": [
        "This can be shortend into $|0\\rangle \\otimes |0\\rangle = |00\\rangle $"
      ],
      "metadata": {
        "id": "ptEs1D0kArAY"
      }
    },
    {
      "cell_type": "markdown",
      "source": [
        "Represent two qubits in superposition, we have $(\\alpha|0\\rangle + \\beta|1\\rangle)$ $\\otimes$ $(\\gamma|0\\rangle + \\delta|1\\rangle)$"
      ],
      "metadata": {
        "id": "BhyhWpdTA1sr"
      }
    },
    {
      "cell_type": "markdown",
      "source": [
        "can be shown with two quibits we have four states $(\\alpha|0\\rangle + \\beta|1\\rangle)$ $\\otimes$ $(\\gamma|0\\rangle + \\delta|1\\rangle)$ $= \\alpha\\gamma|00\\rangle + \\alpha\\delta|01\\rangle + \\beta\\gamma|10\\rangle + \\beta\\delta|11\\rangle$"
      ],
      "metadata": {
        "id": "p9Mj7XzlBKE9"
      }
    },
    {
      "cell_type": "markdown",
      "source": [
        "Probability of measuring $|00\\rangle$ is $|\\alpha\\gamma|^2$"
      ],
      "metadata": {
        "id": "YItJ6KP1DJSy"
      }
    },
    {
      "cell_type": "markdown",
      "source": [
        "Probability of measuring $|01\\rangle$ is $|\\alpha\\delta|^2$"
      ],
      "metadata": {
        "id": "oS-jRNs3Dodq"
      }
    },
    {
      "cell_type": "markdown",
      "source": [
        "Probability of measuring $|10\\rangle$ is $|\\beta\\gamma|^2$"
      ],
      "metadata": {
        "id": "x8uKkuDfDrky"
      }
    },
    {
      "cell_type": "markdown",
      "source": [
        "Probability of measuring $|11\\rangle$ is $|\\beta\\delta|^2$"
      ],
      "metadata": {
        "id": "skABwttSDv-V"
      }
    },
    {
      "cell_type": "markdown",
      "source": [
        "Also, we can use shorthand notation"
      ],
      "metadata": {
        "id": "WG5kq13vDzK4"
      }
    },
    {
      "cell_type": "markdown",
      "source": [
        "Having any number (or n) of 0's can be represented as $|0000...0\\rangle = |0\\rangle^{\\otimes n}$"
      ],
      "metadata": {
        "id": "Km3WAvnGD-uM"
      }
    },
    {
      "cell_type": "markdown",
      "source": [
        "For example, $|1\\rangle^{\\otimes 5} = |11111\\rangle$"
      ],
      "metadata": {
        "id": "mW8tZio5EQRo"
      }
    },
    {
      "cell_type": "markdown",
      "source": [
        "Using Cirq (Google) to display a quantum circuit with two qubits and demonstrate the tensor product operation."
      ],
      "metadata": {
        "id": "lry4C8epONYN"
      }
    },
    {
      "cell_type": "markdown",
      "source": [
        "In the code snippet:\n",
        "\n",
        "We import the cirq module, which provides the necessary functions and classes for working with quantum circuits.\n",
        "\n",
        "We define two qubits using cirq.NamedQubit('q1') and cirq.NamedQubit('q2').\n",
        "We create an initial quantum circuit with the following operations:\n",
        "\n",
        "cirq.H(qubit1): Apply the Hadamard gate to qubit1.\n",
        "cirq.X(qubit2): Apply the X gate to qubit2.\n",
        "cirq.measure(qubit1, key='m1'): Measure the state of qubit1 and store the result in the key 'm1'.\n",
        "cirq.measure(qubit2, key='m2'): Measure the state of qubit2 and store the result in the key 'm2'.\n",
        "\n",
        "We print the initial circuit using circuit.to_text_diagram().\n",
        "\n",
        "We create a new tensor circuit using the tensor product operation:\n",
        "\n",
        "cirq.ops.H.on(qubit1): Apply the Hadamard gate to qubit1.\n",
        "cirq.ops.X.on(qubit2): Apply the X gate to qubit2.\n",
        "cirq.ops.CNOT(qubit1, qubit2): Apply the CNOT (Controlled-NOT) gate to qubit1 and qubit2, where qubit1 is the control qubit, and qubit2 is the target qubit.\n",
        "\n",
        "We print the tensor circuit using tensor_circuit.to_text_diagram().\n",
        "\n",
        "In the tensor circuit diagram, the @ symbol represents the control qubit of the CNOT gate, and the vertical line represents the control operation on the target qubit."
      ],
      "metadata": {
        "id": "L-f7fAIKOfMW"
      }
    },
    {
      "cell_type": "markdown",
      "source": [
        "The tensor product operation allows us to combine the operations on individual qubits to create a joint operation on multiple qubits.\n",
        "\n",
        "In this example, the tensor circuit applies the Hadamard gate to qubit1, the X gate to qubit2, and then applies the CNOT gate, which is the tensor product of the Hadamard and X gates."
      ],
      "metadata": {
        "id": "vUVFL64tOoZV"
      }
    },
    {
      "cell_type": "markdown",
      "source": [
        "Note that we will discuss the CNOT gate in the section called \"Multiple Qubits CNOT, Toffoli and Controlled Gates\"."
      ],
      "metadata": {
        "id": "3BNPgitqO1IZ"
      }
    },
    {
      "cell_type": "code",
      "source": [
        "#!pip install cirq\n",
        "import cirq\n",
        "\n",
        "# Define two qubits\n",
        "qubit1 = cirq.NamedQubit('q1')\n",
        "qubit2 = cirq.NamedQubit('q2')\n",
        "\n",
        "# Create a quantum circuit\n",
        "circuit = cirq.Circuit(\n",
        "    cirq.H(qubit1),  # Apply Hadamard gate to qubit1\n",
        "    cirq.X(qubit2),  # Apply X gate to qubit2\n",
        "    cirq.measure(qubit1, key='m1'),  # Measure qubit1\n",
        "    cirq.measure(qubit2, key='m2')  # Measure qubit2\n",
        ")\n",
        "\n",
        "# Draw the circuit\n",
        "print('Initial circuit:')\n",
        "print(circuit.to_text_diagram())\n",
        "\n",
        "# Apply tensor product operation\n",
        "tensor_circuit = cirq.Circuit(\n",
        "    cirq.ops.H.on(qubit1),\n",
        "    cirq.ops.X.on(qubit2),\n",
        "    cirq.ops.CNOT(qubit1, qubit2)  # Tensor product of H ⊗ X and CNOT gate\n",
        ")\n",
        "\n",
        "# Draw the tensor circuit\n",
        "print('\\nTensor circuit:')\n",
        "print(tensor_circuit.to_text_diagram())"
      ],
      "metadata": {
        "colab": {
          "base_uri": "https://localhost:8080/"
        },
        "id": "xLv8DrPMOWy9",
        "outputId": "8b411d23-a094-4b45-d904-bb08f694e9b4"
      },
      "execution_count": 50,
      "outputs": [
        {
          "output_type": "stream",
          "name": "stdout",
          "text": [
            "Initial circuit:\n",
            "q1: ───H───M('m1')───\n",
            "\n",
            "q2: ───X───M('m2')───\n",
            "\n",
            "Tensor circuit:\n",
            "q1: ───H───@───\n",
            "           │\n",
            "q2: ───X───X───\n"
          ]
        }
      ]
    },
    {
      "cell_type": "code",
      "source": [
        "## Multiple Qubits CNOT, Toffoli and Controlled Gates"
      ],
      "metadata": {
        "id": "aQBU8TyPHL1r"
      },
      "execution_count": 51,
      "outputs": []
    },
    {
      "cell_type": "markdown",
      "source": [
        "CNOT Gate also called Controlled-X Gate"
      ],
      "metadata": {
        "id": "rUcwfITmHmew"
      }
    },
    {
      "cell_type": "markdown",
      "source": [
        "The CNOT gate applies an X gate to the target qubit if the control qubit is a 1"
      ],
      "metadata": {
        "id": "C_RKaOryISKV"
      }
    },
    {
      "cell_type": "markdown",
      "source": [
        "Using CNOT gates enable us to create controlled versions of our single qubit gates."
      ],
      "metadata": {
        "id": "Gqsrq_KwKTAh"
      }
    },
    {
      "cell_type": "markdown",
      "source": [
        "We also can have different controled gates such as Controled Y = CY thus we have CY, CZ, CS, CT, CH..."
      ],
      "metadata": {
        "id": "OndOJadtKe-U"
      }
    },
    {
      "cell_type": "markdown",
      "source": [
        "Using Cirq (Google) to create a CNOT Gate"
      ],
      "metadata": {
        "id": "YUtK1LtZH80_"
      }
    },
    {
      "cell_type": "markdown",
      "source": [
        "The CNOT (Controlled-NOT) gate applies an X gate (NOT operation) to the target qubit if the control qubit is in the state |1⟩."
      ],
      "metadata": {
        "id": "EfwYVUqKIlhO"
      }
    },
    {
      "cell_type": "markdown",
      "source": [
        "The line cirq.X(control_qubit) applies the X gate to the control qubit, which puts it in the state |1⟩.\n",
        "\n",
        "Then, the line cirq.CNOT(control_qubit, target_qubit) applies the CNOT gate, where control_qubit is the control qubit, and target_qubit is the target qubit.\n",
        "\n",
        "Since the control qubit is in the state |1⟩ (due to the previous X gate), the CNOT gate will apply an X gate (NOT operation) to the target qubit."
      ],
      "metadata": {
        "id": "h1h60UBRI0u8"
      }
    },
    {
      "cell_type": "code",
      "source": [
        "#!pip install cirq\n",
        "import cirq\n",
        "\n",
        "# Define qubits\n",
        "control_qubit = cirq.NamedQubit('control')\n",
        "target_qubit = cirq.NamedQubit('target')\n",
        "\n",
        "# Create a quantum circuit\n",
        "circuit = cirq.Circuit(\n",
        "    cirq.X(control_qubit),  # Apply X gate to control qubit\n",
        "    cirq.CNOT(control_qubit, target_qubit),  # Apply CNOT gate\n",
        "    cirq.measure(control_qubit, key='m1'),  # Measure control qubit\n",
        "    cirq.measure(target_qubit, key='m2')  # Measure target qubit\n",
        ")\n",
        "\n",
        "# Draw the circuit\n",
        "print(circuit.to_text_diagram())"
      ],
      "metadata": {
        "colab": {
          "base_uri": "https://localhost:8080/"
        },
        "id": "33QTX7CfH3Fb",
        "outputId": "187507fd-cff4-4de4-8925-a9a50268f58a"
      },
      "execution_count": 52,
      "outputs": [
        {
          "output_type": "stream",
          "name": "stdout",
          "text": [
            "control: ───X───@───M('m1')───\n",
            "                │\n",
            "target: ────────X───M('m2')───\n"
          ]
        }
      ]
    },
    {
      "cell_type": "markdown",
      "source": [
        "Toffoli Gate also called a Controlled-Controlled-X Gate"
      ],
      "metadata": {
        "id": "ll6GSJ4KJVJl"
      }
    },
    {
      "cell_type": "markdown",
      "source": [
        "Same as teh CNOT Gate but the Toffoli Gate has two control quibits"
      ],
      "metadata": {
        "id": "QIhbJVsyJaR-"
      }
    },
    {
      "cell_type": "markdown",
      "source": [
        "Using Cirq (Google) to create a Toffoli Gate"
      ],
      "metadata": {
        "id": "DuqNVQdvJmRk"
      }
    },
    {
      "cell_type": "markdown",
      "source": [
        "In this code snippet:\n",
        "\n",
        "We define three qubits: control_qubit_1, control_qubit_2, and target_qubit.\n",
        "We apply an X gate to both control_qubit_1 and control_qubit_2, putting them in the state |1⟩.\n",
        "\n",
        "We apply the cirq.CCX gate, which is the Toffoli gate (Controlled-Controlled-X gate). This gate takes two control qubits (control_qubit_1 and control_qubit_2) and one target qubit (target_qubit). If both control qubits are in the state |1⟩, it applies an X gate to the target qubit.\n",
        "\n",
        "Finally, we measure all three qubits, storing their respective measurement results in the keys 'm1', 'm2', and 'm3'."
      ],
      "metadata": {
        "id": "G1lsfc3EJ5Ce"
      }
    },
    {
      "cell_type": "code",
      "source": [
        "#!pip install cirq\n",
        "import cirq\n",
        "\n",
        "# Define qubits\n",
        "control_qubit_1 = cirq.NamedQubit('control_1')\n",
        "control_qubit_2 = cirq.NamedQubit('control_2')\n",
        "target_qubit = cirq.NamedQubit('target')\n",
        "\n",
        "# Create a quantum circuit\n",
        "circuit = cirq.Circuit(\n",
        "    cirq.X(control_qubit_1),  # Apply X gate to the first control qubit\n",
        "    cirq.X(control_qubit_2),  # Apply X gate to the second control qubit\n",
        "    cirq.CCX(control_qubit_1, control_qubit_2, target_qubit),  # Apply Toffoli gate\n",
        "    cirq.measure(control_qubit_1, key='m1'),  # Measure the first control qubit\n",
        "    cirq.measure(control_qubit_2, key='m2'),  # Measure the second control qubit\n",
        "    cirq.measure(target_qubit, key='m3')  # Measure the target qubit\n",
        ")\n",
        "\n",
        "# Draw the circuit\n",
        "print(circuit.to_text_diagram())"
      ],
      "metadata": {
        "colab": {
          "base_uri": "https://localhost:8080/"
        },
        "id": "0rZdY2SwJH-J",
        "outputId": "d08fd86b-3767-4978-98a2-da65333d401f"
      },
      "execution_count": 53,
      "outputs": [
        {
          "output_type": "stream",
          "name": "stdout",
          "text": [
            "control_1: ───X───@───M('m1')───\n",
            "                  │\n",
            "control_2: ───X───@───M('m2')───\n",
            "                  │\n",
            "target: ──────────X───M('m3')───\n"
          ]
        }
      ]
    },
    {
      "cell_type": "code",
      "source": [
        "## Entanglement"
      ],
      "metadata": {
        "id": "46SSSYvlPfkJ"
      },
      "execution_count": 54,
      "outputs": []
    },
    {
      "cell_type": "markdown",
      "source": [
        "A state is entangled if it cannot be factored into the tensor product of individual qubits."
      ],
      "metadata": {
        "id": "dUXM21oHP4_f"
      }
    },
    {
      "cell_type": "markdown",
      "source": [
        "That is, by measuring one of the qubits, we know the state of the other qubit."
      ],
      "metadata": {
        "id": "nhxijbsKQxfz"
      }
    },
    {
      "cell_type": "markdown",
      "source": [
        "Said differently, with two qubits, each qubit depends on the other to determine their states."
      ],
      "metadata": {
        "id": "ZZU5RNVaRA3F"
      }
    },
    {
      "cell_type": "markdown",
      "source": [
        "Maximially Entangled States - Qubits are maximally entangled if by measuring one of the qubits we can determine with certainty if the other qubits will be measured as 0 or 1."
      ],
      "metadata": {
        "id": "jZlt4XtsRYir"
      }
    },
    {
      "cell_type": "markdown",
      "source": [
        "For example, the following is maximally entangled $|\\psi\\rangle = 1/\\sqrt2(|00\\rangle + |11\\rangle)$"
      ],
      "metadata": {
        "id": "jhrTHW4ARzAR"
      }
    },
    {
      "cell_type": "code",
      "source": [
        "## Two Qubit Bell States"
      ],
      "metadata": {
        "id": "waeV5TpPSdtJ"
      },
      "execution_count": 55,
      "outputs": []
    },
    {
      "cell_type": "markdown",
      "source": [
        "$|\\Phi^{+} \\rangle = 1/\\sqrt2(|00\\rangle + |11\\rangle)$ \\\\\n",
        "$|\\Phi^{-} \\rangle = 1/\\sqrt2(|00\\rangle - |11\\rangle)$ \\\\\n",
        "$|\\Psi^{+} \\rangle = 1/\\sqrt2(|01\\rangle + |10\\rangle)$ \\\\\n",
        "$|\\Psi^{-} \\rangle = 1/\\sqrt2(|01\\rangle - |10\\rangle)$"
      ],
      "metadata": {
        "id": "Jx5TYOVsSoBD"
      }
    },
    {
      "cell_type": "markdown",
      "source": [
        "Partially Entangled States - Qubits are partially entangled if by measuring one of the qubits, the amplitudes of the other qubits are affected."
      ],
      "metadata": {
        "id": "o981i6uMShHT"
      }
    },
    {
      "cell_type": "markdown",
      "source": [
        "That is, partially entanged means that a qubit can affect the probabilities or phase of the other qubits."
      ],
      "metadata": {
        "id": "W6KiCi66Y6YQ"
      }
    },
    {
      "cell_type": "code",
      "source": [
        "## Phase Kickback"
      ],
      "metadata": {
        "id": "Q3bF1WccZej4"
      },
      "execution_count": 56,
      "outputs": []
    },
    {
      "cell_type": "markdown",
      "source": [
        "Phase kickback is used in some quantum algorithms when we have a state $|v\\rangle$ that is an eigenvector of a gate $U$, by applying a $controlled-U$ gate with $|v\\rangle$ as the target, we can \"kick' the phase onto the control qubit."
      ],
      "metadata": {
        "id": "zmETsjtAZ38z"
      }
    },
    {
      "cell_type": "code",
      "source": [
        "## Superdense Coding"
      ],
      "metadata": {
        "id": "q4pir_bRadQN"
      },
      "execution_count": 57,
      "outputs": []
    },
    {
      "cell_type": "markdown",
      "source": [
        "Quantum protocol that allows us to send two bits of classical information (00, 01, 10 or 11) using 1 qubit."
      ],
      "metadata": {
        "id": "ILnoBTA1aoZd"
      }
    },
    {
      "cell_type": "markdown",
      "source": [
        "For example, we have Alice $⇒$ Bob where Alice wants to send two classical bits to Bob. Alice takes the left qubit and Bob takes the right qubit in the following $|\\psi \\rangle = 1/\\sqrt2(|00\\rangle + |11\\rangle)$"
      ],
      "metadata": {
        "id": "tbP1K5jQay-4"
      }
    },
    {
      "cell_type": "markdown",
      "source": [
        "Alice wants to send 00: Does nothing, Qubits: $|\\psi \\rangle = 1/\\sqrt2(|00\\rangle + |11\\rangle)$"
      ],
      "metadata": {
        "id": "wBhUUHDMbl6f"
      }
    },
    {
      "cell_type": "markdown",
      "source": [
        "Alice wants to send 01: Applies X to her quibit, Qubits: $|\\psi \\rangle = 1/\\sqrt2(|10\\rangle + |01\\rangle)$"
      ],
      "metadata": {
        "id": "rtz-xC39bmDA"
      }
    },
    {
      "cell_type": "markdown",
      "source": [
        "Alice wants to send 10: Applies Z to her quibit, Qubits: $|\\psi \\rangle = 1/\\sqrt2(|00\\rangle - |11\\rangle)$"
      ],
      "metadata": {
        "id": "zCRBuDimbmPZ"
      }
    },
    {
      "cell_type": "markdown",
      "source": [
        "Alice wants to send 11: Applies X, Z to her quibit, Qubits: $|\\psi \\rangle = 1/\\sqrt2(|10\\rangle - |01\\rangle)$"
      ],
      "metadata": {
        "id": "rXaxwGqXbmaw"
      }
    },
    {
      "cell_type": "markdown",
      "source": [
        "Then Alice sends her qubit to Bob so he now has both."
      ],
      "metadata": {
        "id": "_TGEhLdccVXb"
      }
    },
    {
      "cell_type": "markdown",
      "source": [
        "Bob will apply CNOT to each of qubits sent from Alice \\\\\n",
        "$|\\psi \\rangle = 1/\\sqrt2(|00\\rangle + |11\\rangle)$ $\\overset{\\text{CNOT}}{\\rightarrow}$ $1/\\sqrt2(|00\\rangle + |10\\rangle)$ $\\overset{\\text{H}}{\\rightarrow}$ $H|+\\rangle|0\\rangle = |00\\rangle $ \\\\\n",
        "$|\\psi \\rangle = 1/\\sqrt2(|10\\rangle + |01\\rangle)$ $\\overset{\\text{CNOT}}{\\rightarrow}$ $1/\\sqrt2(|11\\rangle + |01\\rangle)$  $\\overset{\\text{H}}{\\rightarrow}$ $H|+\\rangle|1\\rangle = |01\\rangle $ \\\\\n",
        "$|\\psi \\rangle = 1/\\sqrt2(|00\\rangle - |11\\rangle)$ $\\overset{\\text{CNOT}}{\\rightarrow}$ $1/\\sqrt2(|00\\rangle - |10\\rangle)$  $\\overset{\\text{H}}{\\rightarrow}$ $H|-\\rangle|0\\rangle = |10\\rangle $ \\\\\n",
        "$|\\psi \\rangle = 1/\\sqrt2(|10\\rangle - |01\\rangle)$ $\\overset{\\text{CNOT}}{\\rightarrow}$ $1/\\sqrt2(|11\\rangle - |01\\rangle)$  $\\overset{\\text{H}}{\\rightarrow}$ $H|-\\rangle|1\\rangle = |11\\rangle $"
      ],
      "metadata": {
        "id": "J0Bq80wrcyNU"
      }
    },
    {
      "cell_type": "markdown",
      "source": [
        "The reason this works since there are two entangled qubits in the entire system."
      ],
      "metadata": {
        "id": "EJlA4mlof0Kw"
      }
    },
    {
      "cell_type": "code",
      "source": [
        "## Classical Logical Operations (e.g. NOT, AND, OR, XOR)"
      ],
      "metadata": {
        "id": "GAjw3FSXgI1q"
      },
      "execution_count": 58,
      "outputs": []
    },
    {
      "cell_type": "code",
      "source": [
        "#!pip install prettytable\n",
        "from prettytable import PrettyTable\n",
        "\n",
        "# Create a new PrettyTable instance\n",
        "table = PrettyTable()\n",
        "\n",
        "# Add columns to the table\n",
        "table.field_names = [\"Input\", \"Output\"]\n",
        "\n",
        "# Add rows to the table\n",
        "table.add_row([\"0\", \"1\"])\n",
        "table.add_row([\"1\", \"0\"])\n",
        "\n",
        "# Print the truth table\n",
        "print(\"Truth Table for NOT Operation\")\n",
        "print(table)"
      ],
      "metadata": {
        "colab": {
          "base_uri": "https://localhost:8080/"
        },
        "id": "7yGXlouBhW83",
        "outputId": "6a758d52-571a-44e9-cfaa-7fdeaccaf20a"
      },
      "execution_count": 59,
      "outputs": [
        {
          "output_type": "stream",
          "name": "stdout",
          "text": [
            "Truth Table for NOT Operation\n",
            "+-------+--------+\n",
            "| Input | Output |\n",
            "+-------+--------+\n",
            "|   0   |   1    |\n",
            "|   1   |   0    |\n",
            "+-------+--------+\n"
          ]
        }
      ]
    },
    {
      "cell_type": "code",
      "source": [
        "#!pip install prettytable\n",
        "from prettytable import PrettyTable\n",
        "\n",
        "# Create a new PrettyTable instance\n",
        "table = PrettyTable()\n",
        "\n",
        "# Add columns to the table\n",
        "table.field_names = [\"Input 1\", \"Input 2\", \"Output\"]\n",
        "\n",
        "# Add rows to the table\n",
        "table.add_row([\"0\", \"0\", \"0\"])\n",
        "table.add_row([\"0\", \"1\", \"0\"])\n",
        "table.add_row([\"1\", \"0\", \"0\"])\n",
        "table.add_row([\"1\", \"1\", \"1\"])\n",
        "\n",
        "# Print the truth table\n",
        "print(\"Truth Table for AND Operation\")\n",
        "print(table)"
      ],
      "metadata": {
        "colab": {
          "base_uri": "https://localhost:8080/"
        },
        "id": "0Y2pAu0shh6V",
        "outputId": "5be22d80-0b5f-4583-b662-7fe1d9fe7277"
      },
      "execution_count": 60,
      "outputs": [
        {
          "output_type": "stream",
          "name": "stdout",
          "text": [
            "Truth Table for AND Operation\n",
            "+---------+---------+--------+\n",
            "| Input 1 | Input 2 | Output |\n",
            "+---------+---------+--------+\n",
            "|    0    |    0    |   0    |\n",
            "|    0    |    1    |   0    |\n",
            "|    1    |    0    |   0    |\n",
            "|    1    |    1    |   1    |\n",
            "+---------+---------+--------+\n"
          ]
        }
      ]
    },
    {
      "cell_type": "code",
      "source": [
        "#!pip install prettytable\n",
        "from prettytable import PrettyTable\n",
        "\n",
        "# Create a new PrettyTable instance\n",
        "table = PrettyTable()\n",
        "\n",
        "# Add columns to the table\n",
        "table.field_names = [\"Input 1\", \"Input 2\", \"Output\"]\n",
        "\n",
        "# Add rows to the table\n",
        "table.add_row([\"0\", \"0\", \"0\"])\n",
        "table.add_row([\"0\", \"1\", \"1\"])\n",
        "table.add_row([\"1\", \"0\", \"1\"])\n",
        "table.add_row([\"1\", \"1\", \"1\"])\n",
        "\n",
        "# Print the truth table\n",
        "print(\"Truth Table for OR Operation\")\n",
        "print(table)"
      ],
      "metadata": {
        "colab": {
          "base_uri": "https://localhost:8080/"
        },
        "id": "lYOR9TWLhiFj",
        "outputId": "ceb712e8-62d8-43b4-af26-cb5bc4479b76"
      },
      "execution_count": 61,
      "outputs": [
        {
          "output_type": "stream",
          "name": "stdout",
          "text": [
            "Truth Table for OR Operation\n",
            "+---------+---------+--------+\n",
            "| Input 1 | Input 2 | Output |\n",
            "+---------+---------+--------+\n",
            "|    0    |    0    |   0    |\n",
            "|    0    |    1    |   1    |\n",
            "|    1    |    0    |   1    |\n",
            "|    1    |    1    |   1    |\n",
            "+---------+---------+--------+\n"
          ]
        }
      ]
    },
    {
      "cell_type": "code",
      "source": [
        "#!pip install prettytable\n",
        "from prettytable import PrettyTable\n",
        "\n",
        "# Create a new PrettyTable instance\n",
        "table = PrettyTable()\n",
        "\n",
        "# Add columns to the table\n",
        "table.field_names = [\"Input 1\", \"Input 2\", \"Output\"]\n",
        "\n",
        "# Add rows to the table\n",
        "table.add_row([\"0\", \"0\", \"0\"])\n",
        "table.add_row([\"0\", \"1\", \"1\"])\n",
        "table.add_row([\"1\", \"0\", \"1\"])\n",
        "table.add_row([\"1\", \"1\", \"0\"])\n",
        "\n",
        "# Print the truth table\n",
        "print(\"Truth Table for XOR Operation\")\n",
        "print(table)"
      ],
      "metadata": {
        "colab": {
          "base_uri": "https://localhost:8080/"
        },
        "id": "dmiP0tSUhid5",
        "outputId": "0e8156c3-a251-473a-b68b-b87768b64503"
      },
      "execution_count": 62,
      "outputs": [
        {
          "output_type": "stream",
          "name": "stdout",
          "text": [
            "Truth Table for XOR Operation\n",
            "+---------+---------+--------+\n",
            "| Input 1 | Input 2 | Output |\n",
            "+---------+---------+--------+\n",
            "|    0    |    0    |   0    |\n",
            "|    0    |    1    |   1    |\n",
            "|    1    |    0    |   1    |\n",
            "|    1    |    1    |   0    |\n",
            "+---------+---------+--------+\n"
          ]
        }
      ]
    },
    {
      "cell_type": "markdown",
      "source": [
        "Note: A function f is **reversible** if given f(x) we can find **x**."
      ],
      "metadata": {
        "id": "fuFmx4vYiaKM"
      }
    },
    {
      "cell_type": "markdown",
      "source": [
        "Using XOR denoted by $\\oplus$ operation makes a classical operation reversible."
      ],
      "metadata": {
        "id": "IwtGvH4EiqZe"
      }
    },
    {
      "cell_type": "markdown",
      "source": [
        "In quantum computation, all operations we apply (besides measurement) must be reversible."
      ],
      "metadata": {
        "id": "5qh513SLkniE"
      }
    },
    {
      "cell_type": "code",
      "source": [
        "from prettytable import PrettyTable\n",
        "\n",
        "# Truth table for OR operation (A, B)\n",
        "table = PrettyTable()\n",
        "table.field_names = ['A', 'B', 'Output (A OR B)']\n",
        "\n",
        "# Add rows to the table\n",
        "table.add_row(['0', '0', '0'])\n",
        "table.add_row(['0', '1', '1'])\n",
        "table.add_row(['1', '0', '1'])\n",
        "table.add_row(['1', '1', '1'])\n",
        "\n",
        "# Print the truth table\n",
        "print(\"Truth Table for OR Operation (A, B)\")\n",
        "print(table)\n",
        "\n",
        "# Reversible OR Gate with inputs A, B, C and output C XOR (A OR B)\n",
        "table = PrettyTable()\n",
        "table.field_names = ['A', 'B', 'C', 'Output (C XOR (A OR B))']\n",
        "\n",
        "# Add rows to the table\n",
        "table.add_row(['0', '0', '0', '0'])\n",
        "table.add_row(['0', '0', '1', '1'])\n",
        "table.add_row(['0', '1', '0', '1'])\n",
        "table.add_row(['0', '1', '1', '0'])\n",
        "table.add_row(['1', '0', '0', '1'])\n",
        "table.add_row(['1', '0', '1', '0'])\n",
        "table.add_row(['1', '1', '0', '1'])\n",
        "table.add_row(['1', '1', '1', '0'])\n",
        "\n",
        "# Print the reversible OR gate truth table\n",
        "print(\"\\nReversible OR Gate with Inputs A, B, C and Output C XOR (A OR B)\")\n",
        "print(table)"
      ],
      "metadata": {
        "colab": {
          "base_uri": "https://localhost:8080/"
        },
        "id": "cEXhSIJ2jZtU",
        "outputId": "ebb7716e-2848-413c-8888-470f8bb47822"
      },
      "execution_count": 63,
      "outputs": [
        {
          "output_type": "stream",
          "name": "stdout",
          "text": [
            "Truth Table for OR Operation (A, B)\n",
            "+---+---+-----------------+\n",
            "| A | B | Output (A OR B) |\n",
            "+---+---+-----------------+\n",
            "| 0 | 0 |        0        |\n",
            "| 0 | 1 |        1        |\n",
            "| 1 | 0 |        1        |\n",
            "| 1 | 1 |        1        |\n",
            "+---+---+-----------------+\n",
            "\n",
            "Reversible OR Gate with Inputs A, B, C and Output C XOR (A OR B)\n",
            "+---+---+---+-------------------------+\n",
            "| A | B | C | Output (C XOR (A OR B)) |\n",
            "+---+---+---+-------------------------+\n",
            "| 0 | 0 | 0 |            0            |\n",
            "| 0 | 0 | 1 |            1            |\n",
            "| 0 | 1 | 0 |            1            |\n",
            "| 0 | 1 | 1 |            0            |\n",
            "| 1 | 0 | 0 |            1            |\n",
            "| 1 | 0 | 1 |            0            |\n",
            "| 1 | 1 | 0 |            1            |\n",
            "| 1 | 1 | 1 |            0            |\n",
            "+---+---+---+-------------------------+\n"
          ]
        }
      ]
    },
    {
      "cell_type": "code",
      "source": [
        "## Comparison of Quantum Gates"
      ],
      "metadata": {
        "id": "WVYWTAYEnRne"
      },
      "execution_count": 64,
      "outputs": []
    },
    {
      "cell_type": "markdown",
      "source": [
        "Using Cirq (Google) to demonstration comparison of various quantum gates"
      ],
      "metadata": {
        "id": "KYKmrYZXn36y"
      }
    },
    {
      "cell_type": "code",
      "source": [
        "#!pip install prettytable\n",
        "from prettytable import PrettyTable\n",
        "\n",
        "# Create a new PrettyTable instance\n",
        "table = PrettyTable()\n",
        "\n",
        "# Define the column names\n",
        "table.field_names = [\"Gate\", \"Type\", \"Definition\", \"Usage\", \"Importance\"]\n",
        "\n",
        "# Add rows for each gate\n",
        "table.add_row([\"X\", \"Pauli Gate\", \"Flips the state of the qubit\", \"Bit-flip operations, quantum error correction\", \"Forms a basis for quantum operations\"])\n",
        "table.add_row([\"Y\", \"Pauli Gate\", \"Introduces a phase shift of π/2\", \"Quantum error correction, quantum algorithms\", \"Forms a basis for quantum operations\"])\n",
        "table.add_row([\"Z\", \"Pauli Gate\", \"Introduces a phase shift of π\", \"Quantum error correction, quantum algorithms\", \"Forms a basis for quantum operations\"])\n",
        "table.add_row([\"S\", \"Phase Gate\", \"Introduces a phase shift of π/2\", \"Quantum error correction, fault-tolerant quantum computing\", \"Used in combination with other gates\"])\n",
        "table.add_row([\"T\", \"π/8 Gate\", \"Introduces a phase shift of π/4\", \"Quantum error correction, fault-tolerant quantum computing\", \"Universal gate set with H and CNOT\"])\n",
        "table.add_row([\"H\", \"Hadamard Gate\", \"Creates an equal superposition of |0⟩ and |1⟩\", \"Quantum algorithms, quantum error correction\", \"Universal gate set with T and CNOT\"])\n",
        "table.add_row([\"CNOT\", \"Controlled Gate\", \"Flips the target qubit if control is |1⟩\", \"Entanglement, quantum algorithms, quantum error correction\", \"Universal gate set with H and T\"])\n",
        "table.add_row([\"Toffoli\", \"Controlled Gate\", \"Flips the target qubit if both controls are |1⟩\", \"Universal reversible gate, quantum error correction\", \"Used in classical and quantum computing\"])\n",
        "table.add_row([\"Controlled Gates\", \"Controlled Gate\", \"Applies an operation to the target qubit(s) based on the control qubit(s)\", \"Quantum algorithms, quantum error correction\", \"Enables conditional operations\"])\n",
        "table.add_row([\"Pauli Gates\", \"Pauli Gate\", \"Consists of the I, X, Y, and Z gates\", \"Quantum error correction, quantum algorithms\", \"Forms a basis for quantum operations\"])\n",
        "\n",
        "# Print the table\n",
        "print(table)"
      ],
      "metadata": {
        "colab": {
          "base_uri": "https://localhost:8080/"
        },
        "id": "7Mk78M95neQP",
        "outputId": "e4f68e4b-3e3d-4753-8b06-45c0aacc0d53"
      },
      "execution_count": 65,
      "outputs": [
        {
          "output_type": "stream",
          "name": "stdout",
          "text": [
            "+------------------+-----------------+---------------------------------------------------------------------------+------------------------------------------------------------+-----------------------------------------+\n",
            "|       Gate       |       Type      |                                 Definition                                |                           Usage                            |                Importance               |\n",
            "+------------------+-----------------+---------------------------------------------------------------------------+------------------------------------------------------------+-----------------------------------------+\n",
            "|        X         |    Pauli Gate   |                        Flips the state of the qubit                       |       Bit-flip operations, quantum error correction        |   Forms a basis for quantum operations  |\n",
            "|        Y         |    Pauli Gate   |                      Introduces a phase shift of π/2                      |        Quantum error correction, quantum algorithms        |   Forms a basis for quantum operations  |\n",
            "|        Z         |    Pauli Gate   |                       Introduces a phase shift of π                       |        Quantum error correction, quantum algorithms        |   Forms a basis for quantum operations  |\n",
            "|        S         |    Phase Gate   |                      Introduces a phase shift of π/2                      | Quantum error correction, fault-tolerant quantum computing |   Used in combination with other gates  |\n",
            "|        T         |     π/8 Gate    |                      Introduces a phase shift of π/4                      | Quantum error correction, fault-tolerant quantum computing |    Universal gate set with H and CNOT   |\n",
            "|        H         |  Hadamard Gate  |               Creates an equal superposition of |0⟩ and |1⟩               |        Quantum algorithms, quantum error correction        |    Universal gate set with T and CNOT   |\n",
            "|       CNOT       | Controlled Gate |                  Flips the target qubit if control is |1⟩                 | Entanglement, quantum algorithms, quantum error correction |     Universal gate set with H and T     |\n",
            "|     Toffoli      | Controlled Gate |              Flips the target qubit if both controls are |1⟩              |    Universal reversible gate, quantum error correction     | Used in classical and quantum computing |\n",
            "| Controlled Gates | Controlled Gate | Applies an operation to the target qubit(s) based on the control qubit(s) |        Quantum algorithms, quantum error correction        |      Enables conditional operations     |\n",
            "|   Pauli Gates    |    Pauli Gate   |                    Consists of the I, X, Y, and Z gates                   |        Quantum error correction, quantum algorithms        |   Forms a basis for quantum operations  |\n",
            "+------------------+-----------------+---------------------------------------------------------------------------+------------------------------------------------------------+-----------------------------------------+\n"
          ]
        }
      ]
    },
    {
      "cell_type": "code",
      "source": [
        "## Quantum Circuit Application"
      ],
      "metadata": {
        "id": "C7M_7lmZE32m"
      },
      "execution_count": 66,
      "outputs": []
    },
    {
      "cell_type": "markdown",
      "source": [
        "Using Cirq (Google) to demonstrate the integration of a quantum circuit with a classical neural network for digit classification using the MNIST dataset."
      ],
      "metadata": {
        "id": "TFfNpzGjEyJG"
      }
    },
    {
      "cell_type": "markdown",
      "source": [
        "The code snippet demonstrates the integration of a quantum circuit with a classical neural network for digit classification using the MNIST dataset. The code starts by loading the MNIST dataset and preprocessing the images by normalizing and downscaling them to 4x4 pixels. It then creates a quantum circuit for each training image, where the pixel values are encoded into the quantum states of the qubits. The quantum circuit applies a series of quantum operations, including Hadamard gates and controlled-Z gates, to introduce quantum effects. The qubits are then measured, and the measurement outcomes are processed to obtain a quantum feature vector. These quantum feature vectors are used as input to a classical neural network model, which is trained to classify the digits. The code also demonstrates the prediction of a single test image using the trained model. Finally, the predicted digit and the corresponding quantum circuit diagram are printed. It's important to note that the downscaling of images to 4x4 pixels may significantly impact the classification accuracy, and this example serves as a proof of concept for integrating quantum circuits with classical models for digit classification."
      ],
      "metadata": {
        "id": "Sj4_Sxrz02D0"
      }
    },
    {
      "cell_type": "code",
      "source": [
        "#!pip install cirq tensorflow scikit-image\n",
        "\n",
        "import cirq\n",
        "import tensorflow as tf\n",
        "from tensorflow.keras.datasets import mnist\n",
        "import numpy as np\n",
        "from skimage.transform import resize\n",
        "from concurrent.futures import ThreadPoolExecutor\n",
        "\n",
        "def resize_image(image):\n",
        "    return resize(image, (4, 4), anti_aliasing=True)\n",
        "\n",
        "def create_cirq_circuit(image):\n",
        "    flat_image = image.flatten()\n",
        "    num_qubits = len(flat_image)\n",
        "    qubits = [cirq.GridQubit(0, i) for i in range(num_qubits)]\n",
        "    circuit = cirq.Circuit()\n",
        "\n",
        "    for i in range(num_qubits):\n",
        "        if flat_image[i] > 0:\n",
        "            circuit.append(cirq.X(qubits[i]))\n",
        "\n",
        "    circuit.append(cirq.H.on_each(qubits))\n",
        "    for i in range(0, num_qubits - 1, 2):\n",
        "        circuit.append(cirq.CZ(qubits[i], qubits[i + 1]))\n",
        "\n",
        "    circuit.append(cirq.measure(*qubits, key='result'))\n",
        "    return circuit, num_qubits\n",
        "\n",
        "def process_quantum_output(output, num_qubits):\n",
        "    counts = output.histogram(key='result')\n",
        "    quantum_output = np.zeros(2 ** num_qubits)\n",
        "    for key, value in counts.items():\n",
        "        quantum_output[key] = value\n",
        "    quantum_output /= np.sum(quantum_output)\n",
        "    return quantum_output\n",
        "\n",
        "def create_model(num_qubits):\n",
        "    with tf.device('/GPU:0'):\n",
        "        model = tf.keras.Sequential([\n",
        "            tf.keras.layers.Dense(128, activation='relu', input_shape=(2 ** num_qubits,)),\n",
        "            tf.keras.layers.Dense(10, activation='softmax')\n",
        "        ])\n",
        "\n",
        "        model.compile(optimizer=tf.keras.optimizers.Adam(learning_rate=0.001),\n",
        "                      loss=tf.keras.losses.SparseCategoricalCrossentropy(),\n",
        "                      metrics=['accuracy'])\n",
        "    return model\n",
        "\n",
        "def train_and_predict():\n",
        "    (train_data, train_labels), (test_data, test_labels) = mnist.load_data()\n",
        "    train_data = train_data / 255.0\n",
        "    test_data = test_data / 255.0\n",
        "\n",
        "    # Use a smaller subset of the dataset for initial testing\n",
        "    train_data = train_data[:1000]\n",
        "    train_labels = train_labels[:1000]\n",
        "    test_data = test_data[:100]\n",
        "    test_labels = test_labels[:100]\n",
        "\n",
        "    # Parallelize image resizing\n",
        "    with ThreadPoolExecutor() as executor:\n",
        "        train_data = list(executor.map(resize_image, train_data))\n",
        "        test_data = list(executor.map(resize_image, test_data))\n",
        "\n",
        "    train_circuits = []\n",
        "    train_quantum_outputs = []\n",
        "    simulator = cirq.Simulator()\n",
        "\n",
        "    for image in train_data:\n",
        "        circuit, num_qubits = create_cirq_circuit(image)\n",
        "        train_circuits.append(circuit)\n",
        "        result = simulator.run(circuit)\n",
        "        quantum_output = process_quantum_output(result, num_qubits)\n",
        "        train_quantum_outputs.append(quantum_output)\n",
        "\n",
        "    model = create_model(num_qubits)\n",
        "    train_quantum_outputs = np.array(train_quantum_outputs)\n",
        "    model.fit(train_quantum_outputs, train_labels, epochs=10, batch_size=32, verbose=1)\n",
        "\n",
        "    test_image = test_data[0]\n",
        "    test_circuit, _ = create_cirq_circuit(test_image)\n",
        "    test_result = simulator.run(test_circuit)\n",
        "    test_quantum_output = process_quantum_output(test_result, num_qubits)\n",
        "    predicted_digit = model.predict(test_quantum_output[np.newaxis, ...])\n",
        "    predicted_digit = np.argmax(predicted_digit)\n",
        "\n",
        "    return predicted_digit, test_circuit\n",
        "\n",
        "def main():\n",
        "    predicted_digit, test_circuit = train_and_predict()\n",
        "    print(f\"Predicted digit: {predicted_digit}\")\n",
        "    print(\"Test Circuit Diagram:\")\n",
        "    print(test_circuit)\n",
        "\n",
        "if __name__ == \"__main__\":\n",
        "    main()\n"
      ],
      "metadata": {
        "colab": {
          "base_uri": "https://localhost:8080/"
        },
        "id": "q-erRqq5zMJU",
        "outputId": "26486e27-6bd7-4153-e877-4129094ae038"
      },
      "execution_count": 71,
      "outputs": [
        {
          "output_type": "stream",
          "name": "stdout",
          "text": [
            "Epoch 1/10\n",
            "32/32 [==============================] - 1s 6ms/step - loss: 2.3026 - accuracy: 0.0940\n",
            "Epoch 2/10\n",
            "32/32 [==============================] - 0s 6ms/step - loss: 2.2721 - accuracy: 0.3560\n",
            "Epoch 3/10\n",
            "32/32 [==============================] - 0s 6ms/step - loss: 2.2052 - accuracy: 0.5370\n",
            "Epoch 4/10\n",
            "32/32 [==============================] - 0s 6ms/step - loss: 2.0556 - accuracy: 0.9530\n",
            "Epoch 5/10\n",
            "32/32 [==============================] - 0s 6ms/step - loss: 1.8240 - accuracy: 0.9970\n",
            "Epoch 6/10\n",
            "32/32 [==============================] - 0s 6ms/step - loss: 1.5279 - accuracy: 0.9970\n",
            "Epoch 7/10\n",
            "32/32 [==============================] - 0s 6ms/step - loss: 1.1932 - accuracy: 0.9970\n",
            "Epoch 8/10\n",
            "32/32 [==============================] - 0s 6ms/step - loss: 0.8687 - accuracy: 0.9970\n",
            "Epoch 9/10\n",
            "32/32 [==============================] - 0s 6ms/step - loss: 0.5985 - accuracy: 0.9950\n",
            "Epoch 10/10\n",
            "32/32 [==============================] - 0s 6ms/step - loss: 0.4048 - accuracy: 0.9960\n",
            "1/1 [==============================] - 0s 47ms/step\n",
            "Predicted digit: 7\n",
            "Test Circuit Diagram:\n",
            "(0, 0): ────X───H───@───M('result')───\n",
            "                    │   │\n",
            "(0, 1): ────X───H───@───M─────────────\n",
            "                        │\n",
            "(0, 2): ────X───H───@───M─────────────\n",
            "                    │   │\n",
            "(0, 3): ────X───H───@───M─────────────\n",
            "                        │\n",
            "(0, 4): ────X───H───@───M─────────────\n",
            "                    │   │\n",
            "(0, 5): ────X───H───@───M─────────────\n",
            "                        │\n",
            "(0, 6): ────X───H───@───M─────────────\n",
            "                    │   │\n",
            "(0, 7): ────X───H───@───M─────────────\n",
            "                        │\n",
            "(0, 8): ────X───H───@───M─────────────\n",
            "                    │   │\n",
            "(0, 9): ────X───H───@───M─────────────\n",
            "                        │\n",
            "(0, 10): ───X───H───@───M─────────────\n",
            "                    │   │\n",
            "(0, 11): ───X───H───@───M─────────────\n",
            "                        │\n",
            "(0, 12): ───X───H───@───M─────────────\n",
            "                    │   │\n",
            "(0, 13): ───X───H───@───M─────────────\n",
            "                        │\n",
            "(0, 14): ───X───H───@───M─────────────\n",
            "                    │   │\n",
            "(0, 15): ───X───H───@───M─────────────\n"
          ]
        }
      ]
    },
    {
      "cell_type": "markdown",
      "source": [
        "Using Cirq (Google) to another demonstration of an Shor's algorithm, a quantum algorithm for factoring a composite number N into its prime factors."
      ],
      "metadata": {
        "id": "mCEHJFPF1OTB"
      }
    },
    {
      "cell_type": "markdown",
      "source": [
        "The code snippet implements Shor's algorithm, a quantum algorithm for factoring a composite number N into its prime factors. The algorithm starts by choosing a random integer a coprime to N. It then creates a quantum circuit using Cirq, a Python library for quantum computing. The circuit consists of initialization of qubits, controlled operations based on the chosen value of a, and the quantum Fourier transform (QFT). The circuit is run on a simulator to obtain measurement results. From these results, the code estimates the period r, which is a key component of Shor's algorithm. If the estimated r is even, the code calculates the greatest common divisors (GCDs) of a^(r/2) ± 1 and N. If either of these GCDs is a non-trivial factor of N, the code prints the factors found. Finally, the code prints the quantum circuit diagram to visualize the circuit used in the algorithm. The success of finding the correct factors depends on the accuracy of the estimated period r, which is determined probabilistically by the quantum algorithm."
      ],
      "metadata": {
        "id": "a5EW4dQ0xyuF"
      }
    },
    {
      "cell_type": "code",
      "source": [
        "#!pip install cirq\n",
        "\n",
        "import cirq\n",
        "import math\n",
        "import numpy as np\n",
        "\n",
        "def create_circuit(N, a):\n",
        "    n = int(math.ceil(math.log2(N)))\n",
        "    qubits = [cirq.GridQubit(0, i) for i in range(n)]\n",
        "    circuit = cirq.Circuit()\n",
        "\n",
        "    # Initialize the qubits in superposition\n",
        "    circuit.append([cirq.H(qubit) for qubit in qubits])\n",
        "\n",
        "    # Oracle for the modular exponentiation\n",
        "    for i in range(n):\n",
        "        circuit.append(cirq.X(qubits[i]).controlled_by(*qubits[i+1:])**(a**(2**i) % N))\n",
        "\n",
        "    # Apply the Quantum Fourier Transform (QFT)\n",
        "    circuit.append(qft(qubits))\n",
        "\n",
        "    # Measure the qubits\n",
        "    circuit.append(cirq.measure(*qubits, key='result'))\n",
        "\n",
        "    return circuit\n",
        "\n",
        "def qft(qubits):\n",
        "    circuit = cirq.Circuit()\n",
        "    n = len(qubits)\n",
        "    for i in range(n):\n",
        "        for j in range(i):\n",
        "            circuit.append(cirq.CZ(qubits[i], qubits[j])**(1 / 2**(i-j)))\n",
        "        circuit.append(cirq.H(qubits[i]))\n",
        "    return circuit\n",
        "\n",
        "def run_circuit(circuit, repetitions=1024):\n",
        "    simulator = cirq.Simulator()\n",
        "    result = simulator.run(circuit, repetitions=repetitions)\n",
        "    return result\n",
        "\n",
        "def estimate_r(result, num_qubits):\n",
        "    measurements = result.measurements['result']\n",
        "    counts = {}\n",
        "    for measurement in measurements:\n",
        "        decimal = int(''.join(str(bit) for bit in measurement), 2)\n",
        "        counts[decimal] = counts.get(decimal, 0) + 1\n",
        "\n",
        "    # Find the most frequent measurement outcome\n",
        "    r_estimate = max(counts, key=counts.get)\n",
        "\n",
        "    return r_estimate\n",
        "\n",
        "def calculate_gcds(a, r, N):\n",
        "    if r % 2 == 0:\n",
        "        gcd_1 = math.gcd(pow(a, r // 2, N) - 1, N)\n",
        "        gcd_2 = math.gcd(pow(a, r // 2, N) + 1, N)\n",
        "        return gcd_1, gcd_2\n",
        "    else:\n",
        "        return None, None\n",
        "\n",
        "def main():\n",
        "    # Define the parameters\n",
        "    N = 15  # N = p * q\n",
        "    p = 3\n",
        "    q = 5\n",
        "    a = 7  # Choose a such that gcd(a, N) = 1\n",
        "\n",
        "    # Create the quantum circuit\n",
        "    circuit = create_circuit(N, a)\n",
        "\n",
        "    # Run the circuit on a simulator\n",
        "    result = run_circuit(circuit)\n",
        "\n",
        "    # Estimate r\n",
        "    num_qubits = int(math.ceil(math.log2(N)))\n",
        "    r_estimate = estimate_r(result, num_qubits)\n",
        "    print(f'\\nEstimated value of r: {r_estimate}')\n",
        "\n",
        "    # Calculate the GCDs\n",
        "    gcd_1, gcd_2 = calculate_gcds(a, r_estimate, N)\n",
        "\n",
        "    if gcd_1 is not None and gcd_2 is not None:\n",
        "        print(f'\\ngcd({a}^({r_estimate // 2}) - 1, {N}) = {gcd_1}')\n",
        "        print(f'gcd({a}^({r_estimate // 2}) + 1, {N}) = {gcd_2}')\n",
        "\n",
        "        if gcd_1 != 1 and gcd_1 != N:\n",
        "            print(f'\\nFactors found: {gcd_1} and {N // gcd_1}')\n",
        "        elif gcd_2 != 1 and gcd_2 != N:\n",
        "            print(f'\\nFactors found: {gcd_2} and {N // gcd_2}')\n",
        "        else:\n",
        "            print('\\nNo non-trivial factors found.')\n",
        "    else:\n",
        "        print('\\nNo factors found. The estimated period r is odd.')\n",
        "\n",
        "    # Print the circuit diagram\n",
        "    print('\\nQuantum Circuit:')\n",
        "    print(circuit)\n",
        "\n",
        "if __name__ == \"__main__\":\n",
        "    main()\n"
      ],
      "metadata": {
        "colab": {
          "base_uri": "https://localhost:8080/"
        },
        "id": "4VQ6gB9lrWwc",
        "outputId": "96d5d583-c3ff-49af-c573-158583ef5411"
      },
      "execution_count": 73,
      "outputs": [
        {
          "output_type": "stream",
          "name": "stdout",
          "text": [
            "\n",
            "Estimated value of r: 0\n",
            "\n",
            "gcd(7^(0) - 1, 15) = 15\n",
            "gcd(7^(0) + 1, 15) = 1\n",
            "\n",
            "No non-trivial factors found.\n",
            "\n",
            "Quantum Circuit:\n",
            "                                             ┌───────┐   ┌────────────┐   ┌───────┐\n",
            "(0, 0): ───H───X─────────────────H───@─────────@───────────────@──────────────────────────────────M('result')───\n",
            "               │                     │         │               │                                  │\n",
            "(0, 1): ───H───@───X^0───────────────@^0.5────H┼──────────@────┼────────────@─────────────────────M─────────────\n",
            "               │   │                           │          │    │            │                     │\n",
            "(0, 2): ───H───@───@─────X─────────────────────@^0.25─────@^0.5┼───────────H┼─────────@───────────M─────────────\n",
            "               │   │     │                                     │            │         │           │\n",
            "(0, 3): ───H───@───@─────@───X─────────────────────────────────@^(1/8)──────@^0.25────@^0.5───H───M─────────────\n",
            "                                             └───────┘   └────────────┘   └───────┘\n"
          ]
        }
      ]
    }
  ]
}